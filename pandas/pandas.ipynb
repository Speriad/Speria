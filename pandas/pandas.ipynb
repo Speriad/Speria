{
 "cells": [
  {
   "cell_type": "code",
   "execution_count": 1,
   "metadata": {},
   "outputs": [],
   "source": [
    "import pandas as pd"
   ]
  },
  {
   "cell_type": "code",
   "execution_count": 7,
   "metadata": {},
   "outputs": [],
   "source": [
    "dict = {\n",
    "    '1조' : ['김민석', '김준희', '손승민', '이도윤', '이준우', '전현수'],\n",
    "    '2조' : ['김건우', '김무겸', '김민규', '신하람', '윤서준', '박영준'],\n",
    "    '3조' : ['박한영', '정재은', '정진서', '최인영', '홍은재', ''],\n",
    "    '4조' : ['강태구', '김태호', '박찬웅', '손경훈', '이휘민', '정인환'],\n",
    "    '5조' : ['김민준', '박주혁', '박진우', '송연수', '안예찬', '이현우']\n",
    "}\n",
    "df = pd.DataFrame(dict, index=[1,2,3,4,5,6])"
   ]
  },
  {
   "cell_type": "code",
   "execution_count": 8,
   "metadata": {},
   "outputs": [
    {
     "data": {
      "text/html": [
       "<div>\n",
       "<style scoped>\n",
       "    .dataframe tbody tr th:only-of-type {\n",
       "        vertical-align: middle;\n",
       "    }\n",
       "\n",
       "    .dataframe tbody tr th {\n",
       "        vertical-align: top;\n",
       "    }\n",
       "\n",
       "    .dataframe thead th {\n",
       "        text-align: right;\n",
       "    }\n",
       "</style>\n",
       "<table border=\"1\" class=\"dataframe\">\n",
       "  <thead>\n",
       "    <tr style=\"text-align: right;\">\n",
       "      <th></th>\n",
       "      <th>1조</th>\n",
       "      <th>2조</th>\n",
       "      <th>3조</th>\n",
       "      <th>4조</th>\n",
       "      <th>5조</th>\n",
       "    </tr>\n",
       "  </thead>\n",
       "  <tbody>\n",
       "    <tr>\n",
       "      <th>1</th>\n",
       "      <td>김민석</td>\n",
       "      <td>김건우</td>\n",
       "      <td>박한영</td>\n",
       "      <td>강태구</td>\n",
       "      <td>김민준</td>\n",
       "    </tr>\n",
       "    <tr>\n",
       "      <th>2</th>\n",
       "      <td>김준희</td>\n",
       "      <td>김무겸</td>\n",
       "      <td>정재은</td>\n",
       "      <td>김태호</td>\n",
       "      <td>박주혁</td>\n",
       "    </tr>\n",
       "    <tr>\n",
       "      <th>3</th>\n",
       "      <td>손승민</td>\n",
       "      <td>김민규</td>\n",
       "      <td>정진서</td>\n",
       "      <td>박찬웅</td>\n",
       "      <td>박진우</td>\n",
       "    </tr>\n",
       "    <tr>\n",
       "      <th>4</th>\n",
       "      <td>이도윤</td>\n",
       "      <td>신하람</td>\n",
       "      <td>최인영</td>\n",
       "      <td>손경훈</td>\n",
       "      <td>송연수</td>\n",
       "    </tr>\n",
       "    <tr>\n",
       "      <th>5</th>\n",
       "      <td>이준우</td>\n",
       "      <td>윤서준</td>\n",
       "      <td>홍은재</td>\n",
       "      <td>이휘민</td>\n",
       "      <td>안예찬</td>\n",
       "    </tr>\n",
       "    <tr>\n",
       "      <th>6</th>\n",
       "      <td>전현수</td>\n",
       "      <td>박영준</td>\n",
       "      <td></td>\n",
       "      <td>정인환</td>\n",
       "      <td>이현우</td>\n",
       "    </tr>\n",
       "  </tbody>\n",
       "</table>\n",
       "</div>"
      ],
      "text/plain": [
       "    1조   2조   3조   4조   5조\n",
       "1  김민석  김건우  박한영  강태구  김민준\n",
       "2  김준희  김무겸  정재은  김태호  박주혁\n",
       "3  손승민  김민규  정진서  박찬웅  박진우\n",
       "4  이도윤  신하람  최인영  손경훈  송연수\n",
       "5  이준우  윤서준  홍은재  이휘민  안예찬\n",
       "6  전현수  박영준       정인환  이현우"
      ]
     },
     "execution_count": 8,
     "metadata": {},
     "output_type": "execute_result"
    }
   ],
   "source": [
    "df"
   ]
  },
  {
   "cell_type": "code",
   "execution_count": 14,
   "metadata": {},
   "outputs": [],
   "source": [
    "df.to_csv('list.csv', encoding='utf-8-sig')"
   ]
  },
  {
   "cell_type": "code",
   "execution_count": null,
   "metadata": {},
   "outputs": [],
   "source": []
  }
 ],
 "metadata": {
  "kernelspec": {
   "display_name": "base",
   "language": "python",
   "name": "python3"
  },
  "language_info": {
   "codemirror_mode": {
    "name": "ipython",
    "version": 3
   },
   "file_extension": ".py",
   "mimetype": "text/x-python",
   "name": "python",
   "nbconvert_exporter": "python",
   "pygments_lexer": "ipython3",
   "version": "3.10.9"
  },
  "orig_nbformat": 4
 },
 "nbformat": 4,
 "nbformat_minor": 2
}
