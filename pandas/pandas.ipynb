{
 "cells": [
  {
   "cell_type": "code",
   "execution_count": 145,
   "id": "6aaf45ea",
   "metadata": {},
   "outputs": [],
   "source": [
    "import pandas as pd"
   ]
  },
  {
   "cell_type": "markdown",
   "id": "a3b4a827",
   "metadata": {},
   "source": [
    "# Series"
   ]
  },
  {
   "cell_type": "code",
   "execution_count": 146,
   "id": "a9df16d9",
   "metadata": {},
   "outputs": [
    {
     "name": "stdout",
     "output_type": "stream",
     "text": [
      "0    10\n",
      "1    20\n",
      "2    30\n",
      "3    40\n",
      "dtype: int64\n"
     ]
    }
   ],
   "source": [
    "temp = pd.Series([10,20,30,40])\n",
    "print(temp)"
   ]
  },
  {
   "cell_type": "code",
   "execution_count": 147,
   "id": "c64c3d09",
   "metadata": {},
   "outputs": [
    {
     "data": {
      "text/plain": [
       "10"
      ]
     },
     "execution_count": 147,
     "metadata": {},
     "output_type": "execute_result"
    }
   ],
   "source": [
    "temp[0]"
   ]
  },
  {
   "cell_type": "markdown",
   "id": "72caabc9",
   "metadata": {},
   "source": [
    "# Series Index 설정"
   ]
  },
  {
   "cell_type": "code",
   "execution_count": 148,
   "id": "674b87f2",
   "metadata": {},
   "outputs": [
    {
     "name": "stdout",
     "output_type": "stream",
     "text": [
      "One      10\n",
      "Two      20\n",
      "Three    30\n",
      "Four     40\n",
      "dtype: int64\n"
     ]
    }
   ],
   "source": [
    "temp = pd.Series([10,20,30,40], index=['One','Two','Three','Four'])\n",
    "print(temp)"
   ]
  },
  {
   "cell_type": "code",
   "execution_count": 149,
   "id": "081d9ca5",
   "metadata": {},
   "outputs": [
    {
     "data": {
      "text/plain": [
       "10"
      ]
     },
     "execution_count": 149,
     "metadata": {},
     "output_type": "execute_result"
    }
   ],
   "source": [
    "temp['One']"
   ]
  },
  {
   "cell_type": "markdown",
   "id": "f50cdec6",
   "metadata": {},
   "source": [
    "# DataFrame"
   ]
  },
  {
   "cell_type": "code",
   "execution_count": 150,
   "id": "37c4c03a",
   "metadata": {},
   "outputs": [
    {
     "data": {
      "text/plain": [
       "{'이름': ['A', 'B', 'C', 'D', 'E'],\n",
       " '나이': [14, 15, 16, 17, 18],\n",
       " '번호': [1, 2, 3, 4, 5]}"
      ]
     },
     "execution_count": 150,
     "metadata": {},
     "output_type": "execute_result"
    }
   ],
   "source": [
    "data = {\n",
    "    '이름' : ['A','B','C','D','E'],\n",
    "    '나이' : [14,15,16,17,18],\n",
    "    '번호' : [1,2,3,4,5]\n",
    "} #객체 형태\n",
    "data"
   ]
  },
  {
   "cell_type": "code",
   "execution_count": 151,
   "id": "f1059f30",
   "metadata": {},
   "outputs": [
    {
     "data": {
      "text/plain": [
       "dict"
      ]
     },
     "execution_count": 151,
     "metadata": {},
     "output_type": "execute_result"
    }
   ],
   "source": [
    "type(data)"
   ]
  },
  {
   "cell_type": "code",
   "execution_count": 152,
   "id": "49d4be76",
   "metadata": {},
   "outputs": [
    {
     "data": {
      "text/html": [
       "<div>\n",
       "<style scoped>\n",
       "    .dataframe tbody tr th:only-of-type {\n",
       "        vertical-align: middle;\n",
       "    }\n",
       "\n",
       "    .dataframe tbody tr th {\n",
       "        vertical-align: top;\n",
       "    }\n",
       "\n",
       "    .dataframe thead th {\n",
       "        text-align: right;\n",
       "    }\n",
       "</style>\n",
       "<table border=\"1\" class=\"dataframe\">\n",
       "  <thead>\n",
       "    <tr style=\"text-align: right;\">\n",
       "      <th></th>\n",
       "      <th>이름</th>\n",
       "      <th>나이</th>\n",
       "      <th>번호</th>\n",
       "    </tr>\n",
       "  </thead>\n",
       "  <tbody>\n",
       "    <tr>\n",
       "      <th>0</th>\n",
       "      <td>A</td>\n",
       "      <td>14</td>\n",
       "      <td>1</td>\n",
       "    </tr>\n",
       "    <tr>\n",
       "      <th>1</th>\n",
       "      <td>B</td>\n",
       "      <td>15</td>\n",
       "      <td>2</td>\n",
       "    </tr>\n",
       "    <tr>\n",
       "      <th>2</th>\n",
       "      <td>C</td>\n",
       "      <td>16</td>\n",
       "      <td>3</td>\n",
       "    </tr>\n",
       "    <tr>\n",
       "      <th>3</th>\n",
       "      <td>D</td>\n",
       "      <td>17</td>\n",
       "      <td>4</td>\n",
       "    </tr>\n",
       "    <tr>\n",
       "      <th>4</th>\n",
       "      <td>E</td>\n",
       "      <td>18</td>\n",
       "      <td>5</td>\n",
       "    </tr>\n",
       "  </tbody>\n",
       "</table>\n",
       "</div>"
      ],
      "text/plain": [
       "  이름  나이  번호\n",
       "0  A  14   1\n",
       "1  B  15   2\n",
       "2  C  16   3\n",
       "3  D  17   4\n",
       "4  E  18   5"
      ]
     },
     "execution_count": 152,
     "metadata": {},
     "output_type": "execute_result"
    }
   ],
   "source": [
    "df = pd.DataFrame(data)\n",
    "df"
   ]
  },
  {
   "cell_type": "code",
   "execution_count": 153,
   "id": "23a20ef4",
   "metadata": {},
   "outputs": [
    {
     "data": {
      "text/html": [
       "<div>\n",
       "<style scoped>\n",
       "    .dataframe tbody tr th:only-of-type {\n",
       "        vertical-align: middle;\n",
       "    }\n",
       "\n",
       "    .dataframe tbody tr th {\n",
       "        vertical-align: top;\n",
       "    }\n",
       "\n",
       "    .dataframe thead th {\n",
       "        text-align: right;\n",
       "    }\n",
       "</style>\n",
       "<table border=\"1\" class=\"dataframe\">\n",
       "  <thead>\n",
       "    <tr style=\"text-align: right;\">\n",
       "      <th></th>\n",
       "      <th>이름</th>\n",
       "      <th>번호</th>\n",
       "    </tr>\n",
       "  </thead>\n",
       "  <tbody>\n",
       "    <tr>\n",
       "      <th>0</th>\n",
       "      <td>A</td>\n",
       "      <td>1</td>\n",
       "    </tr>\n",
       "    <tr>\n",
       "      <th>1</th>\n",
       "      <td>B</td>\n",
       "      <td>2</td>\n",
       "    </tr>\n",
       "    <tr>\n",
       "      <th>2</th>\n",
       "      <td>C</td>\n",
       "      <td>3</td>\n",
       "    </tr>\n",
       "    <tr>\n",
       "      <th>3</th>\n",
       "      <td>D</td>\n",
       "      <td>4</td>\n",
       "    </tr>\n",
       "    <tr>\n",
       "      <th>4</th>\n",
       "      <td>E</td>\n",
       "      <td>5</td>\n",
       "    </tr>\n",
       "  </tbody>\n",
       "</table>\n",
       "</div>"
      ],
      "text/plain": [
       "  이름  번호\n",
       "0  A   1\n",
       "1  B   2\n",
       "2  C   3\n",
       "3  D   4\n",
       "4  E   5"
      ]
     },
     "execution_count": 153,
     "metadata": {},
     "output_type": "execute_result"
    }
   ],
   "source": [
    "df[['이름', '번호']]"
   ]
  },
  {
   "cell_type": "markdown",
   "id": "a3d60116",
   "metadata": {},
   "source": [
    "# DataFrame Index 설정"
   ]
  },
  {
   "cell_type": "code",
   "execution_count": 154,
   "id": "baadde38",
   "metadata": {},
   "outputs": [
    {
     "data": {
      "text/html": [
       "<div>\n",
       "<style scoped>\n",
       "    .dataframe tbody tr th:only-of-type {\n",
       "        vertical-align: middle;\n",
       "    }\n",
       "\n",
       "    .dataframe tbody tr th {\n",
       "        vertical-align: top;\n",
       "    }\n",
       "\n",
       "    .dataframe thead th {\n",
       "        text-align: right;\n",
       "    }\n",
       "</style>\n",
       "<table border=\"1\" class=\"dataframe\">\n",
       "  <thead>\n",
       "    <tr style=\"text-align: right;\">\n",
       "      <th></th>\n",
       "      <th>이름</th>\n",
       "      <th>나이</th>\n",
       "      <th>번호</th>\n",
       "    </tr>\n",
       "  </thead>\n",
       "  <tbody>\n",
       "    <tr>\n",
       "      <th>첫번째</th>\n",
       "      <td>A</td>\n",
       "      <td>14</td>\n",
       "      <td>1</td>\n",
       "    </tr>\n",
       "    <tr>\n",
       "      <th>두번째</th>\n",
       "      <td>B</td>\n",
       "      <td>15</td>\n",
       "      <td>2</td>\n",
       "    </tr>\n",
       "    <tr>\n",
       "      <th>세번째</th>\n",
       "      <td>C</td>\n",
       "      <td>16</td>\n",
       "      <td>3</td>\n",
       "    </tr>\n",
       "    <tr>\n",
       "      <th>네번째</th>\n",
       "      <td>D</td>\n",
       "      <td>17</td>\n",
       "      <td>4</td>\n",
       "    </tr>\n",
       "    <tr>\n",
       "      <th>다섯번째</th>\n",
       "      <td>E</td>\n",
       "      <td>18</td>\n",
       "      <td>5</td>\n",
       "    </tr>\n",
       "  </tbody>\n",
       "</table>\n",
       "</div>"
      ],
      "text/plain": [
       "     이름  나이  번호\n",
       "첫번째   A  14   1\n",
       "두번째   B  15   2\n",
       "세번째   C  16   3\n",
       "네번째   D  17   4\n",
       "다섯번째  E  18   5"
      ]
     },
     "execution_count": 154,
     "metadata": {},
     "output_type": "execute_result"
    }
   ],
   "source": [
    "df = pd.DataFrame(data, index = ['첫번째','두번째','세번째','네번째','다섯번째'])\n",
    "df"
   ]
  },
  {
   "cell_type": "markdown",
   "id": "b6bc8843",
   "metadata": {},
   "source": [
    "# DataFrame Columns 설정"
   ]
  },
  {
   "cell_type": "code",
   "execution_count": 155,
   "id": "7ffd7494",
   "metadata": {},
   "outputs": [
    {
     "data": {
      "text/html": [
       "<div>\n",
       "<style scoped>\n",
       "    .dataframe tbody tr th:only-of-type {\n",
       "        vertical-align: middle;\n",
       "    }\n",
       "\n",
       "    .dataframe tbody tr th {\n",
       "        vertical-align: top;\n",
       "    }\n",
       "\n",
       "    .dataframe thead th {\n",
       "        text-align: right;\n",
       "    }\n",
       "</style>\n",
       "<table border=\"1\" class=\"dataframe\">\n",
       "  <thead>\n",
       "    <tr style=\"text-align: right;\">\n",
       "      <th></th>\n",
       "      <th>이름</th>\n",
       "      <th>번호</th>\n",
       "      <th>나이</th>\n",
       "    </tr>\n",
       "  </thead>\n",
       "  <tbody>\n",
       "    <tr>\n",
       "      <th>0</th>\n",
       "      <td>A</td>\n",
       "      <td>1</td>\n",
       "      <td>14</td>\n",
       "    </tr>\n",
       "    <tr>\n",
       "      <th>1</th>\n",
       "      <td>B</td>\n",
       "      <td>2</td>\n",
       "      <td>15</td>\n",
       "    </tr>\n",
       "    <tr>\n",
       "      <th>2</th>\n",
       "      <td>C</td>\n",
       "      <td>3</td>\n",
       "      <td>16</td>\n",
       "    </tr>\n",
       "    <tr>\n",
       "      <th>3</th>\n",
       "      <td>D</td>\n",
       "      <td>4</td>\n",
       "      <td>17</td>\n",
       "    </tr>\n",
       "    <tr>\n",
       "      <th>4</th>\n",
       "      <td>E</td>\n",
       "      <td>5</td>\n",
       "      <td>18</td>\n",
       "    </tr>\n",
       "  </tbody>\n",
       "</table>\n",
       "</div>"
      ],
      "text/plain": [
       "  이름  번호  나이\n",
       "0  A   1  14\n",
       "1  B   2  15\n",
       "2  C   3  16\n",
       "3  D   4  17\n",
       "4  E   5  18"
      ]
     },
     "execution_count": 155,
     "metadata": {},
     "output_type": "execute_result"
    }
   ],
   "source": [
    "df = pd.DataFrame(data, columns=['이름','번호','나이'])\n",
    "df"
   ]
  },
  {
   "cell_type": "code",
   "execution_count": 156,
   "id": "f412dc10",
   "metadata": {},
   "outputs": [
    {
     "data": {
      "text/html": [
       "<div>\n",
       "<style scoped>\n",
       "    .dataframe tbody tr th:only-of-type {\n",
       "        vertical-align: middle;\n",
       "    }\n",
       "\n",
       "    .dataframe tbody tr th {\n",
       "        vertical-align: top;\n",
       "    }\n",
       "\n",
       "    .dataframe thead th {\n",
       "        text-align: right;\n",
       "    }\n",
       "</style>\n",
       "<table border=\"1\" class=\"dataframe\">\n",
       "  <thead>\n",
       "    <tr style=\"text-align: right;\">\n",
       "      <th></th>\n",
       "      <th>이름</th>\n",
       "      <th>번호</th>\n",
       "      <th>나이</th>\n",
       "    </tr>\n",
       "    <tr>\n",
       "      <th>선수번호</th>\n",
       "      <th></th>\n",
       "      <th></th>\n",
       "      <th></th>\n",
       "    </tr>\n",
       "  </thead>\n",
       "  <tbody>\n",
       "    <tr>\n",
       "      <th>0</th>\n",
       "      <td>A</td>\n",
       "      <td>1</td>\n",
       "      <td>14</td>\n",
       "    </tr>\n",
       "    <tr>\n",
       "      <th>1</th>\n",
       "      <td>B</td>\n",
       "      <td>2</td>\n",
       "      <td>15</td>\n",
       "    </tr>\n",
       "    <tr>\n",
       "      <th>2</th>\n",
       "      <td>C</td>\n",
       "      <td>3</td>\n",
       "      <td>16</td>\n",
       "    </tr>\n",
       "    <tr>\n",
       "      <th>3</th>\n",
       "      <td>D</td>\n",
       "      <td>4</td>\n",
       "      <td>17</td>\n",
       "    </tr>\n",
       "    <tr>\n",
       "      <th>4</th>\n",
       "      <td>E</td>\n",
       "      <td>5</td>\n",
       "      <td>18</td>\n",
       "    </tr>\n",
       "  </tbody>\n",
       "</table>\n",
       "</div>"
      ],
      "text/plain": [
       "     이름  번호  나이\n",
       "선수번호           \n",
       "0     A   1  14\n",
       "1     B   2  15\n",
       "2     C   3  16\n",
       "3     D   4  17\n",
       "4     E   5  18"
      ]
     },
     "execution_count": 156,
     "metadata": {},
     "output_type": "execute_result"
    }
   ],
   "source": [
    "df.index.name='선수번호'\n",
    "df"
   ]
  },
  {
   "cell_type": "code",
   "execution_count": 157,
   "id": "f9464743",
   "metadata": {},
   "outputs": [
    {
     "data": {
      "text/html": [
       "<div>\n",
       "<style scoped>\n",
       "    .dataframe tbody tr th:only-of-type {\n",
       "        vertical-align: middle;\n",
       "    }\n",
       "\n",
       "    .dataframe tbody tr th {\n",
       "        vertical-align: top;\n",
       "    }\n",
       "\n",
       "    .dataframe thead th {\n",
       "        text-align: right;\n",
       "    }\n",
       "</style>\n",
       "<table border=\"1\" class=\"dataframe\">\n",
       "  <thead>\n",
       "    <tr style=\"text-align: right;\">\n",
       "      <th></th>\n",
       "      <th>번호</th>\n",
       "      <th>나이</th>\n",
       "    </tr>\n",
       "    <tr>\n",
       "      <th>이름</th>\n",
       "      <th></th>\n",
       "      <th></th>\n",
       "    </tr>\n",
       "  </thead>\n",
       "  <tbody>\n",
       "    <tr>\n",
       "      <th>A</th>\n",
       "      <td>1</td>\n",
       "      <td>14</td>\n",
       "    </tr>\n",
       "    <tr>\n",
       "      <th>B</th>\n",
       "      <td>2</td>\n",
       "      <td>15</td>\n",
       "    </tr>\n",
       "    <tr>\n",
       "      <th>C</th>\n",
       "      <td>3</td>\n",
       "      <td>16</td>\n",
       "    </tr>\n",
       "    <tr>\n",
       "      <th>D</th>\n",
       "      <td>4</td>\n",
       "      <td>17</td>\n",
       "    </tr>\n",
       "    <tr>\n",
       "      <th>E</th>\n",
       "      <td>5</td>\n",
       "      <td>18</td>\n",
       "    </tr>\n",
       "  </tbody>\n",
       "</table>\n",
       "</div>"
      ],
      "text/plain": [
       "    번호  나이\n",
       "이름        \n",
       "A    1  14\n",
       "B    2  15\n",
       "C    3  16\n",
       "D    4  17\n",
       "E    5  18"
      ]
     },
     "execution_count": 157,
     "metadata": {},
     "output_type": "execute_result"
    }
   ],
   "source": [
    "df.set_index('이름')"
   ]
  },
  {
   "cell_type": "code",
   "execution_count": 158,
   "id": "eb20baab",
   "metadata": {},
   "outputs": [
    {
     "data": {
      "text/html": [
       "<div>\n",
       "<style scoped>\n",
       "    .dataframe tbody tr th:only-of-type {\n",
       "        vertical-align: middle;\n",
       "    }\n",
       "\n",
       "    .dataframe tbody tr th {\n",
       "        vertical-align: top;\n",
       "    }\n",
       "\n",
       "    .dataframe thead th {\n",
       "        text-align: right;\n",
       "    }\n",
       "</style>\n",
       "<table border=\"1\" class=\"dataframe\">\n",
       "  <thead>\n",
       "    <tr style=\"text-align: right;\">\n",
       "      <th></th>\n",
       "      <th>이름</th>\n",
       "      <th>번호</th>\n",
       "      <th>나이</th>\n",
       "    </tr>\n",
       "    <tr>\n",
       "      <th>선수번호</th>\n",
       "      <th></th>\n",
       "      <th></th>\n",
       "      <th></th>\n",
       "    </tr>\n",
       "  </thead>\n",
       "  <tbody>\n",
       "    <tr>\n",
       "      <th>4</th>\n",
       "      <td>E</td>\n",
       "      <td>5</td>\n",
       "      <td>18</td>\n",
       "    </tr>\n",
       "    <tr>\n",
       "      <th>3</th>\n",
       "      <td>D</td>\n",
       "      <td>4</td>\n",
       "      <td>17</td>\n",
       "    </tr>\n",
       "    <tr>\n",
       "      <th>2</th>\n",
       "      <td>C</td>\n",
       "      <td>3</td>\n",
       "      <td>16</td>\n",
       "    </tr>\n",
       "    <tr>\n",
       "      <th>1</th>\n",
       "      <td>B</td>\n",
       "      <td>2</td>\n",
       "      <td>15</td>\n",
       "    </tr>\n",
       "    <tr>\n",
       "      <th>0</th>\n",
       "      <td>A</td>\n",
       "      <td>1</td>\n",
       "      <td>14</td>\n",
       "    </tr>\n",
       "  </tbody>\n",
       "</table>\n",
       "</div>"
      ],
      "text/plain": [
       "     이름  번호  나이\n",
       "선수번호           \n",
       "4     E   5  18\n",
       "3     D   4  17\n",
       "2     C   3  16\n",
       "1     B   2  15\n",
       "0     A   1  14"
      ]
     },
     "execution_count": 158,
     "metadata": {},
     "output_type": "execute_result"
    }
   ],
   "source": [
    "df.sort_index(ascending = False) #내림차순 정렬, True 일 경우 오름차순"
   ]
  },
  {
   "cell_type": "code",
   "execution_count": 159,
   "id": "1b9fadc2",
   "metadata": {},
   "outputs": [
    {
     "data": {
      "text/html": [
       "<div>\n",
       "<style scoped>\n",
       "    .dataframe tbody tr th:only-of-type {\n",
       "        vertical-align: middle;\n",
       "    }\n",
       "\n",
       "    .dataframe tbody tr th {\n",
       "        vertical-align: top;\n",
       "    }\n",
       "\n",
       "    .dataframe thead th {\n",
       "        text-align: right;\n",
       "    }\n",
       "</style>\n",
       "<table border=\"1\" class=\"dataframe\">\n",
       "  <thead>\n",
       "    <tr style=\"text-align: right;\">\n",
       "      <th></th>\n",
       "      <th>이름</th>\n",
       "      <th>나이</th>\n",
       "      <th>번호</th>\n",
       "      <th>국어</th>\n",
       "      <th>수학</th>\n",
       "      <th>영어</th>\n",
       "    </tr>\n",
       "  </thead>\n",
       "  <tbody>\n",
       "    <tr>\n",
       "      <th>0</th>\n",
       "      <td>A</td>\n",
       "      <td>14</td>\n",
       "      <td>1</td>\n",
       "      <td>55</td>\n",
       "      <td>33</td>\n",
       "      <td>11</td>\n",
       "    </tr>\n",
       "    <tr>\n",
       "      <th>1</th>\n",
       "      <td>B</td>\n",
       "      <td>15</td>\n",
       "      <td>2</td>\n",
       "      <td>66</td>\n",
       "      <td>22</td>\n",
       "      <td>22</td>\n",
       "    </tr>\n",
       "    <tr>\n",
       "      <th>2</th>\n",
       "      <td>C</td>\n",
       "      <td>16</td>\n",
       "      <td>3</td>\n",
       "      <td>77</td>\n",
       "      <td>44</td>\n",
       "      <td>11</td>\n",
       "    </tr>\n",
       "    <tr>\n",
       "      <th>3</th>\n",
       "      <td>D</td>\n",
       "      <td>17</td>\n",
       "      <td>4</td>\n",
       "      <td>88</td>\n",
       "      <td>11</td>\n",
       "      <td>66</td>\n",
       "    </tr>\n",
       "    <tr>\n",
       "      <th>4</th>\n",
       "      <td>E</td>\n",
       "      <td>18</td>\n",
       "      <td>5</td>\n",
       "      <td>99</td>\n",
       "      <td>66</td>\n",
       "      <td>32</td>\n",
       "    </tr>\n",
       "  </tbody>\n",
       "</table>\n",
       "</div>"
      ],
      "text/plain": [
       "  이름  나이  번호  국어  수학  영어\n",
       "0  A  14   1  55  33  11\n",
       "1  B  15   2  66  22  22\n",
       "2  C  16   3  77  44  11\n",
       "3  D  17   4  88  11  66\n",
       "4  E  18   5  99  66  32"
      ]
     },
     "execution_count": 159,
     "metadata": {},
     "output_type": "execute_result"
    }
   ],
   "source": [
    "data = {\n",
    "    '이름' : ['A','B','C','D','E'],\n",
    "    '나이' : [14,15,16,17,18],\n",
    "    '번호' : [1,2,3,4,5],\n",
    "    '국어' : [55,66,77,88,99],\n",
    "    '수학' : [33,22,44,11,66],\n",
    "    '영어' : [11,22,11,66,32]\n",
    "} #객체 형태\n",
    "df = pd.DataFrame(data)\n",
    "df"
   ]
  },
  {
   "cell_type": "markdown",
   "id": "19e16549",
   "metadata": {},
   "source": [
    "# 파일로 저장하기"
   ]
  },
  {
   "cell_type": "code",
   "execution_count": 160,
   "id": "cf4ba9a1",
   "metadata": {
    "scrolled": false
   },
   "outputs": [
    {
     "data": {
      "text/html": [
       "<div>\n",
       "<style scoped>\n",
       "    .dataframe tbody tr th:only-of-type {\n",
       "        vertical-align: middle;\n",
       "    }\n",
       "\n",
       "    .dataframe tbody tr th {\n",
       "        vertical-align: top;\n",
       "    }\n",
       "\n",
       "    .dataframe thead th {\n",
       "        text-align: right;\n",
       "    }\n",
       "</style>\n",
       "<table border=\"1\" class=\"dataframe\">\n",
       "  <thead>\n",
       "    <tr style=\"text-align: right;\">\n",
       "      <th></th>\n",
       "      <th>이름</th>\n",
       "      <th>나이</th>\n",
       "      <th>번호</th>\n",
       "      <th>국어</th>\n",
       "      <th>수학</th>\n",
       "      <th>영어</th>\n",
       "    </tr>\n",
       "  </thead>\n",
       "  <tbody>\n",
       "    <tr>\n",
       "      <th>1</th>\n",
       "      <td>A</td>\n",
       "      <td>14</td>\n",
       "      <td>1</td>\n",
       "      <td>55</td>\n",
       "      <td>33</td>\n",
       "      <td>11</td>\n",
       "    </tr>\n",
       "    <tr>\n",
       "      <th>2</th>\n",
       "      <td>B</td>\n",
       "      <td>15</td>\n",
       "      <td>2</td>\n",
       "      <td>66</td>\n",
       "      <td>22</td>\n",
       "      <td>22</td>\n",
       "    </tr>\n",
       "    <tr>\n",
       "      <th>3</th>\n",
       "      <td>C</td>\n",
       "      <td>16</td>\n",
       "      <td>3</td>\n",
       "      <td>77</td>\n",
       "      <td>44</td>\n",
       "      <td>11</td>\n",
       "    </tr>\n",
       "    <tr>\n",
       "      <th>4</th>\n",
       "      <td>D</td>\n",
       "      <td>17</td>\n",
       "      <td>4</td>\n",
       "      <td>88</td>\n",
       "      <td>11</td>\n",
       "      <td>66</td>\n",
       "    </tr>\n",
       "    <tr>\n",
       "      <th>5</th>\n",
       "      <td>E</td>\n",
       "      <td>18</td>\n",
       "      <td>5</td>\n",
       "      <td>99</td>\n",
       "      <td>66</td>\n",
       "      <td>32</td>\n",
       "    </tr>\n",
       "  </tbody>\n",
       "</table>\n",
       "</div>"
      ],
      "text/plain": [
       "  이름  나이  번호  국어  수학  영어\n",
       "1  A  14   1  55  33  11\n",
       "2  B  15   2  66  22  22\n",
       "3  C  16   3  77  44  11\n",
       "4  D  17   4  88  11  66\n",
       "5  E  18   5  99  66  32"
      ]
     },
     "execution_count": 160,
     "metadata": {},
     "output_type": "execute_result"
    }
   ],
   "source": [
    "df = pd.DataFrame(data, index = [1,2,3,4,5])\n",
    "df"
   ]
  },
  {
   "cell_type": "code",
   "execution_count": 161,
   "id": "aafb9d5c",
   "metadata": {},
   "outputs": [],
   "source": [
    "df.index.name = '순위'"
   ]
  },
  {
   "cell_type": "code",
   "execution_count": 162,
   "id": "13a4826a",
   "metadata": {},
   "outputs": [
    {
     "data": {
      "text/html": [
       "<div>\n",
       "<style scoped>\n",
       "    .dataframe tbody tr th:only-of-type {\n",
       "        vertical-align: middle;\n",
       "    }\n",
       "\n",
       "    .dataframe tbody tr th {\n",
       "        vertical-align: top;\n",
       "    }\n",
       "\n",
       "    .dataframe thead th {\n",
       "        text-align: right;\n",
       "    }\n",
       "</style>\n",
       "<table border=\"1\" class=\"dataframe\">\n",
       "  <thead>\n",
       "    <tr style=\"text-align: right;\">\n",
       "      <th></th>\n",
       "      <th>이름</th>\n",
       "      <th>나이</th>\n",
       "      <th>번호</th>\n",
       "      <th>국어</th>\n",
       "      <th>수학</th>\n",
       "      <th>영어</th>\n",
       "    </tr>\n",
       "    <tr>\n",
       "      <th>순위</th>\n",
       "      <th></th>\n",
       "      <th></th>\n",
       "      <th></th>\n",
       "      <th></th>\n",
       "      <th></th>\n",
       "      <th></th>\n",
       "    </tr>\n",
       "  </thead>\n",
       "  <tbody>\n",
       "    <tr>\n",
       "      <th>1</th>\n",
       "      <td>A</td>\n",
       "      <td>14</td>\n",
       "      <td>1</td>\n",
       "      <td>55</td>\n",
       "      <td>33</td>\n",
       "      <td>11</td>\n",
       "    </tr>\n",
       "    <tr>\n",
       "      <th>2</th>\n",
       "      <td>B</td>\n",
       "      <td>15</td>\n",
       "      <td>2</td>\n",
       "      <td>66</td>\n",
       "      <td>22</td>\n",
       "      <td>22</td>\n",
       "    </tr>\n",
       "    <tr>\n",
       "      <th>3</th>\n",
       "      <td>C</td>\n",
       "      <td>16</td>\n",
       "      <td>3</td>\n",
       "      <td>77</td>\n",
       "      <td>44</td>\n",
       "      <td>11</td>\n",
       "    </tr>\n",
       "    <tr>\n",
       "      <th>4</th>\n",
       "      <td>D</td>\n",
       "      <td>17</td>\n",
       "      <td>4</td>\n",
       "      <td>88</td>\n",
       "      <td>11</td>\n",
       "      <td>66</td>\n",
       "    </tr>\n",
       "    <tr>\n",
       "      <th>5</th>\n",
       "      <td>E</td>\n",
       "      <td>18</td>\n",
       "      <td>5</td>\n",
       "      <td>99</td>\n",
       "      <td>66</td>\n",
       "      <td>32</td>\n",
       "    </tr>\n",
       "  </tbody>\n",
       "</table>\n",
       "</div>"
      ],
      "text/plain": [
       "   이름  나이  번호  국어  수학  영어\n",
       "순위                       \n",
       "1   A  14   1  55  33  11\n",
       "2   B  15   2  66  22  22\n",
       "3   C  16   3  77  44  11\n",
       "4   D  17   4  88  11  66\n",
       "5   E  18   5  99  66  32"
      ]
     },
     "execution_count": 162,
     "metadata": {},
     "output_type": "execute_result"
    }
   ],
   "source": [
    "df"
   ]
  },
  {
   "cell_type": "code",
   "execution_count": 163,
   "id": "af4f3ba1",
   "metadata": {},
   "outputs": [
    {
     "data": {
      "text/html": [
       "<div>\n",
       "<style scoped>\n",
       "    .dataframe tbody tr th:only-of-type {\n",
       "        vertical-align: middle;\n",
       "    }\n",
       "\n",
       "    .dataframe tbody tr th {\n",
       "        vertical-align: top;\n",
       "    }\n",
       "\n",
       "    .dataframe thead th {\n",
       "        text-align: right;\n",
       "    }\n",
       "</style>\n",
       "<table border=\"1\" class=\"dataframe\">\n",
       "  <thead>\n",
       "    <tr style=\"text-align: right;\">\n",
       "      <th></th>\n",
       "      <th>이름</th>\n",
       "      <th>나이</th>\n",
       "      <th>음악</th>\n",
       "      <th>국어</th>\n",
       "      <th>수학</th>\n",
       "      <th>영어</th>\n",
       "    </tr>\n",
       "    <tr>\n",
       "      <th>순위</th>\n",
       "      <th></th>\n",
       "      <th></th>\n",
       "      <th></th>\n",
       "      <th></th>\n",
       "      <th></th>\n",
       "      <th></th>\n",
       "    </tr>\n",
       "  </thead>\n",
       "  <tbody>\n",
       "    <tr>\n",
       "      <th>1</th>\n",
       "      <td>Kanye</td>\n",
       "      <td>42</td>\n",
       "      <td>100</td>\n",
       "      <td>55</td>\n",
       "      <td>33</td>\n",
       "      <td>11</td>\n",
       "    </tr>\n",
       "    <tr>\n",
       "      <th>2</th>\n",
       "      <td>Tyler</td>\n",
       "      <td>31</td>\n",
       "      <td>95</td>\n",
       "      <td>66</td>\n",
       "      <td>22</td>\n",
       "      <td>22</td>\n",
       "    </tr>\n",
       "    <tr>\n",
       "      <th>3</th>\n",
       "      <td>Wayne</td>\n",
       "      <td>43</td>\n",
       "      <td>52</td>\n",
       "      <td>77</td>\n",
       "      <td>44</td>\n",
       "      <td>11</td>\n",
       "    </tr>\n",
       "    <tr>\n",
       "      <th>4</th>\n",
       "      <td>Yachty</td>\n",
       "      <td>24</td>\n",
       "      <td>88</td>\n",
       "      <td>88</td>\n",
       "      <td>11</td>\n",
       "      <td>66</td>\n",
       "    </tr>\n",
       "    <tr>\n",
       "      <th>5</th>\n",
       "      <td>Drake</td>\n",
       "      <td>33</td>\n",
       "      <td>12</td>\n",
       "      <td>99</td>\n",
       "      <td>66</td>\n",
       "      <td>32</td>\n",
       "    </tr>\n",
       "  </tbody>\n",
       "</table>\n",
       "</div>"
      ],
      "text/plain": [
       "        이름  나이   음악  국어  수학  영어\n",
       "순위                             \n",
       "1    Kanye  42  100  55  33  11\n",
       "2    Tyler  31   95  66  22  22\n",
       "3    Wayne  43   52  77  44  11\n",
       "4   Yachty  24   88  88  11  66\n",
       "5    Drake  33   12  99  66  32"
      ]
     },
     "execution_count": 163,
     "metadata": {},
     "output_type": "execute_result"
    }
   ],
   "source": [
    "data = {\n",
    "    '이름' : ['Kanye','Tyler','Wayne','Yachty','Drake'],\n",
    "    '나이' : [42,31,43,24,33],\n",
    "    '음악' : [100,95,52,88,12],\n",
    "    '국어' : [55,66,77,88,99],\n",
    "    '수학' : [33,22,44,11,66],\n",
    "    '영어' : [11,22,11,66,32]\n",
    "} #객체 형태\n",
    "df = pd.DataFrame(data, index=[1,2,3,4,5])\n",
    "df.index.name = '순위'\n",
    "df\n",
    "#df.to_csv('ranking.csv', encoding='utf-8-sig') #csv 파일로 변환, 위치 : C:\\Users\\Speria\\anaconda3\\Scripts\\Python"
   ]
  },
  {
   "cell_type": "code",
   "execution_count": 164,
   "id": "9ce39019",
   "metadata": {},
   "outputs": [],
   "source": [
    "#df.to_csv('ranking.txt', sep='\\t') #표처럼 만들기"
   ]
  },
  {
   "cell_type": "markdown",
   "id": "d13bdbf7",
   "metadata": {},
   "source": [
    "# 파일 열기"
   ]
  },
  {
   "cell_type": "code",
   "execution_count": 165,
   "id": "36c834c1",
   "metadata": {},
   "outputs": [],
   "source": [
    "#df = pd.read_csv('ranking.csv') #skiprows : 처음 n줄 무시, nrows : n줄만 가져옴"
   ]
  },
  {
   "cell_type": "code",
   "execution_count": 166,
   "id": "3b4f9840",
   "metadata": {},
   "outputs": [
    {
     "data": {
      "text/html": [
       "<div>\n",
       "<style scoped>\n",
       "    .dataframe tbody tr th:only-of-type {\n",
       "        vertical-align: middle;\n",
       "    }\n",
       "\n",
       "    .dataframe tbody tr th {\n",
       "        vertical-align: top;\n",
       "    }\n",
       "\n",
       "    .dataframe thead th {\n",
       "        text-align: right;\n",
       "    }\n",
       "</style>\n",
       "<table border=\"1\" class=\"dataframe\">\n",
       "  <thead>\n",
       "    <tr style=\"text-align: right;\">\n",
       "      <th></th>\n",
       "      <th>이름</th>\n",
       "      <th>나이</th>\n",
       "      <th>음악</th>\n",
       "      <th>국어</th>\n",
       "      <th>수학</th>\n",
       "      <th>영어</th>\n",
       "      <th>학교</th>\n",
       "    </tr>\n",
       "    <tr>\n",
       "      <th>순위</th>\n",
       "      <th></th>\n",
       "      <th></th>\n",
       "      <th></th>\n",
       "      <th></th>\n",
       "      <th></th>\n",
       "      <th></th>\n",
       "      <th></th>\n",
       "    </tr>\n",
       "  </thead>\n",
       "  <tbody>\n",
       "    <tr>\n",
       "      <th>1위</th>\n",
       "      <td>Kanye</td>\n",
       "      <td>42</td>\n",
       "      <td>100</td>\n",
       "      <td>55</td>\n",
       "      <td>33</td>\n",
       "      <td>11</td>\n",
       "      <td>Chicago</td>\n",
       "    </tr>\n",
       "    <tr>\n",
       "      <th>2위</th>\n",
       "      <td>Tyler</td>\n",
       "      <td>31</td>\n",
       "      <td>95</td>\n",
       "      <td>66</td>\n",
       "      <td>22</td>\n",
       "      <td>22</td>\n",
       "      <td>Odd Future</td>\n",
       "    </tr>\n",
       "    <tr>\n",
       "      <th>3위</th>\n",
       "      <td>Wayne</td>\n",
       "      <td>43</td>\n",
       "      <td>52</td>\n",
       "      <td>77</td>\n",
       "      <td>44</td>\n",
       "      <td>11</td>\n",
       "      <td>Ohio</td>\n",
       "    </tr>\n",
       "    <tr>\n",
       "      <th>4위</th>\n",
       "      <td>Yachty</td>\n",
       "      <td>24</td>\n",
       "      <td>88</td>\n",
       "      <td>88</td>\n",
       "      <td>11</td>\n",
       "      <td>66</td>\n",
       "      <td>Ohio</td>\n",
       "    </tr>\n",
       "    <tr>\n",
       "      <th>5위</th>\n",
       "      <td>Drake</td>\n",
       "      <td>33</td>\n",
       "      <td>12</td>\n",
       "      <td>99</td>\n",
       "      <td>66</td>\n",
       "      <td>32</td>\n",
       "      <td>Toronto</td>\n",
       "    </tr>\n",
       "    <tr>\n",
       "      <th>6위</th>\n",
       "      <td>Frank</td>\n",
       "      <td>32</td>\n",
       "      <td>99</td>\n",
       "      <td>71</td>\n",
       "      <td>88</td>\n",
       "      <td>74</td>\n",
       "      <td>Blonded</td>\n",
       "    </tr>\n",
       "    <tr>\n",
       "      <th>7위</th>\n",
       "      <td>Kendrick</td>\n",
       "      <td>38</td>\n",
       "      <td>89</td>\n",
       "      <td>99</td>\n",
       "      <td>11</td>\n",
       "      <td>92</td>\n",
       "      <td>Compton</td>\n",
       "    </tr>\n",
       "  </tbody>\n",
       "</table>\n",
       "</div>"
      ],
      "text/plain": [
       "          이름  나이   음악  국어  수학  영어          학교\n",
       "순위                                           \n",
       "1위     Kanye  42  100  55  33  11     Chicago\n",
       "2위     Tyler  31   95  66  22  22  Odd Future\n",
       "3위     Wayne  43   52  77  44  11        Ohio\n",
       "4위    Yachty  24   88  88  11  66        Ohio\n",
       "5위     Drake  33   12  99  66  32     Toronto\n",
       "6위     Frank  32   99  71  88  74     Blonded\n",
       "7위  Kendrick  38   89  99  11  92     Compton"
      ]
     },
     "execution_count": 166,
     "metadata": {},
     "output_type": "execute_result"
    }
   ],
   "source": [
    "data = {\n",
    "    '이름' : ['Kanye','Tyler','Wayne','Yachty','Drake', 'Frank', 'Kendrick'],\n",
    "    '나이' : [42,31,43,24,33,32,38],\n",
    "    '음악' : [100,95,52,88,12,99,89],\n",
    "    '국어' : [55,66,77,88,99,71,99],\n",
    "    '수학' : [33,22,44,11,66,88,11],\n",
    "    '영어' : [11,22,11,66,32,74,92],\n",
    "    '학교' : ['Chicago', 'Odd Future', 'Ohio', 'Ohio', 'Toronto', 'Blonded', 'Compton']\n",
    "} #객체 형태\n",
    "df = pd.DataFrame(data, index=['1위','2위','3위','4위','5위','6위','7위'])\n",
    "df.index.name = '순위'\n",
    "df"
   ]
  },
  {
   "cell_type": "markdown",
   "id": "4ee4234b",
   "metadata": {},
   "source": [
    "# DataFrame 확인"
   ]
  },
  {
   "cell_type": "code",
   "execution_count": 167,
   "id": "c275dcfd",
   "metadata": {},
   "outputs": [
    {
     "data": {
      "text/html": [
       "<div>\n",
       "<style scoped>\n",
       "    .dataframe tbody tr th:only-of-type {\n",
       "        vertical-align: middle;\n",
       "    }\n",
       "\n",
       "    .dataframe tbody tr th {\n",
       "        vertical-align: top;\n",
       "    }\n",
       "\n",
       "    .dataframe thead th {\n",
       "        text-align: right;\n",
       "    }\n",
       "</style>\n",
       "<table border=\"1\" class=\"dataframe\">\n",
       "  <thead>\n",
       "    <tr style=\"text-align: right;\">\n",
       "      <th></th>\n",
       "      <th>나이</th>\n",
       "      <th>음악</th>\n",
       "      <th>국어</th>\n",
       "      <th>수학</th>\n",
       "      <th>영어</th>\n",
       "    </tr>\n",
       "  </thead>\n",
       "  <tbody>\n",
       "    <tr>\n",
       "      <th>count</th>\n",
       "      <td>7.000000</td>\n",
       "      <td>7.000000</td>\n",
       "      <td>7.000000</td>\n",
       "      <td>7.000000</td>\n",
       "      <td>7.000000</td>\n",
       "    </tr>\n",
       "    <tr>\n",
       "      <th>mean</th>\n",
       "      <td>34.714286</td>\n",
       "      <td>76.428571</td>\n",
       "      <td>79.285714</td>\n",
       "      <td>39.285714</td>\n",
       "      <td>44.000000</td>\n",
       "    </tr>\n",
       "    <tr>\n",
       "      <th>std</th>\n",
       "      <td>6.725927</td>\n",
       "      <td>32.786466</td>\n",
       "      <td>16.799943</td>\n",
       "      <td>29.004105</td>\n",
       "      <td>32.898835</td>\n",
       "    </tr>\n",
       "    <tr>\n",
       "      <th>min</th>\n",
       "      <td>24.000000</td>\n",
       "      <td>12.000000</td>\n",
       "      <td>55.000000</td>\n",
       "      <td>11.000000</td>\n",
       "      <td>11.000000</td>\n",
       "    </tr>\n",
       "    <tr>\n",
       "      <th>25%</th>\n",
       "      <td>31.500000</td>\n",
       "      <td>70.000000</td>\n",
       "      <td>68.500000</td>\n",
       "      <td>16.500000</td>\n",
       "      <td>16.500000</td>\n",
       "    </tr>\n",
       "    <tr>\n",
       "      <th>50%</th>\n",
       "      <td>33.000000</td>\n",
       "      <td>89.000000</td>\n",
       "      <td>77.000000</td>\n",
       "      <td>33.000000</td>\n",
       "      <td>32.000000</td>\n",
       "    </tr>\n",
       "    <tr>\n",
       "      <th>75%</th>\n",
       "      <td>40.000000</td>\n",
       "      <td>97.000000</td>\n",
       "      <td>93.500000</td>\n",
       "      <td>55.000000</td>\n",
       "      <td>70.000000</td>\n",
       "    </tr>\n",
       "    <tr>\n",
       "      <th>max</th>\n",
       "      <td>43.000000</td>\n",
       "      <td>100.000000</td>\n",
       "      <td>99.000000</td>\n",
       "      <td>88.000000</td>\n",
       "      <td>92.000000</td>\n",
       "    </tr>\n",
       "  </tbody>\n",
       "</table>\n",
       "</div>"
      ],
      "text/plain": [
       "              나이          음악         국어         수학         영어\n",
       "count   7.000000    7.000000   7.000000   7.000000   7.000000\n",
       "mean   34.714286   76.428571  79.285714  39.285714  44.000000\n",
       "std     6.725927   32.786466  16.799943  29.004105  32.898835\n",
       "min    24.000000   12.000000  55.000000  11.000000  11.000000\n",
       "25%    31.500000   70.000000  68.500000  16.500000  16.500000\n",
       "50%    33.000000   89.000000  77.000000  33.000000  32.000000\n",
       "75%    40.000000   97.000000  93.500000  55.000000  70.000000\n",
       "max    43.000000  100.000000  99.000000  88.000000  92.000000"
      ]
     },
     "execution_count": 167,
     "metadata": {},
     "output_type": "execute_result"
    }
   ],
   "source": [
    "df.describe()"
   ]
  },
  {
   "cell_type": "code",
   "execution_count": 168,
   "id": "0b3bdfa5",
   "metadata": {},
   "outputs": [
    {
     "name": "stdout",
     "output_type": "stream",
     "text": [
      "<class 'pandas.core.frame.DataFrame'>\n",
      "Index: 7 entries, 1위 to 7위\n",
      "Data columns (total 7 columns):\n",
      " #   Column  Non-Null Count  Dtype \n",
      "---  ------  --------------  ----- \n",
      " 0   이름      7 non-null      object\n",
      " 1   나이      7 non-null      int64 \n",
      " 2   음악      7 non-null      int64 \n",
      " 3   국어      7 non-null      int64 \n",
      " 4   수학      7 non-null      int64 \n",
      " 5   영어      7 non-null      int64 \n",
      " 6   학교      7 non-null      object\n",
      "dtypes: int64(5), object(2)\n",
      "memory usage: 448.0+ bytes\n"
     ]
    }
   ],
   "source": [
    "df.info()"
   ]
  },
  {
   "cell_type": "code",
   "execution_count": 169,
   "id": "fd7535d8",
   "metadata": {},
   "outputs": [
    {
     "data": {
      "text/html": [
       "<div>\n",
       "<style scoped>\n",
       "    .dataframe tbody tr th:only-of-type {\n",
       "        vertical-align: middle;\n",
       "    }\n",
       "\n",
       "    .dataframe tbody tr th {\n",
       "        vertical-align: top;\n",
       "    }\n",
       "\n",
       "    .dataframe thead th {\n",
       "        text-align: right;\n",
       "    }\n",
       "</style>\n",
       "<table border=\"1\" class=\"dataframe\">\n",
       "  <thead>\n",
       "    <tr style=\"text-align: right;\">\n",
       "      <th></th>\n",
       "      <th>이름</th>\n",
       "      <th>나이</th>\n",
       "      <th>음악</th>\n",
       "      <th>국어</th>\n",
       "      <th>수학</th>\n",
       "      <th>영어</th>\n",
       "      <th>학교</th>\n",
       "    </tr>\n",
       "    <tr>\n",
       "      <th>순위</th>\n",
       "      <th></th>\n",
       "      <th></th>\n",
       "      <th></th>\n",
       "      <th></th>\n",
       "      <th></th>\n",
       "      <th></th>\n",
       "      <th></th>\n",
       "    </tr>\n",
       "  </thead>\n",
       "  <tbody>\n",
       "    <tr>\n",
       "      <th>1위</th>\n",
       "      <td>Kanye</td>\n",
       "      <td>42</td>\n",
       "      <td>100</td>\n",
       "      <td>55</td>\n",
       "      <td>33</td>\n",
       "      <td>11</td>\n",
       "      <td>Chicago</td>\n",
       "    </tr>\n",
       "    <tr>\n",
       "      <th>2위</th>\n",
       "      <td>Tyler</td>\n",
       "      <td>31</td>\n",
       "      <td>95</td>\n",
       "      <td>66</td>\n",
       "      <td>22</td>\n",
       "      <td>22</td>\n",
       "      <td>Odd Future</td>\n",
       "    </tr>\n",
       "    <tr>\n",
       "      <th>3위</th>\n",
       "      <td>Wayne</td>\n",
       "      <td>43</td>\n",
       "      <td>52</td>\n",
       "      <td>77</td>\n",
       "      <td>44</td>\n",
       "      <td>11</td>\n",
       "      <td>Ohio</td>\n",
       "    </tr>\n",
       "    <tr>\n",
       "      <th>4위</th>\n",
       "      <td>Yachty</td>\n",
       "      <td>24</td>\n",
       "      <td>88</td>\n",
       "      <td>88</td>\n",
       "      <td>11</td>\n",
       "      <td>66</td>\n",
       "      <td>Ohio</td>\n",
       "    </tr>\n",
       "    <tr>\n",
       "      <th>5위</th>\n",
       "      <td>Drake</td>\n",
       "      <td>33</td>\n",
       "      <td>12</td>\n",
       "      <td>99</td>\n",
       "      <td>66</td>\n",
       "      <td>32</td>\n",
       "      <td>Toronto</td>\n",
       "    </tr>\n",
       "  </tbody>\n",
       "</table>\n",
       "</div>"
      ],
      "text/plain": [
       "        이름  나이   음악  국어  수학  영어          학교\n",
       "순위                                         \n",
       "1위   Kanye  42  100  55  33  11     Chicago\n",
       "2위   Tyler  31   95  66  22  22  Odd Future\n",
       "3위   Wayne  43   52  77  44  11        Ohio\n",
       "4위  Yachty  24   88  88  11  66        Ohio\n",
       "5위   Drake  33   12  99  66  32     Toronto"
      ]
     },
     "execution_count": 169,
     "metadata": {},
     "output_type": "execute_result"
    }
   ],
   "source": [
    "df.head()  #처음 다섯개의 row 를 불러오기"
   ]
  },
  {
   "cell_type": "code",
   "execution_count": 170,
   "id": "31d59821",
   "metadata": {},
   "outputs": [
    {
     "data": {
      "text/html": [
       "<div>\n",
       "<style scoped>\n",
       "    .dataframe tbody tr th:only-of-type {\n",
       "        vertical-align: middle;\n",
       "    }\n",
       "\n",
       "    .dataframe tbody tr th {\n",
       "        vertical-align: top;\n",
       "    }\n",
       "\n",
       "    .dataframe thead th {\n",
       "        text-align: right;\n",
       "    }\n",
       "</style>\n",
       "<table border=\"1\" class=\"dataframe\">\n",
       "  <thead>\n",
       "    <tr style=\"text-align: right;\">\n",
       "      <th></th>\n",
       "      <th>이름</th>\n",
       "      <th>나이</th>\n",
       "      <th>음악</th>\n",
       "      <th>국어</th>\n",
       "      <th>수학</th>\n",
       "      <th>영어</th>\n",
       "      <th>학교</th>\n",
       "    </tr>\n",
       "    <tr>\n",
       "      <th>순위</th>\n",
       "      <th></th>\n",
       "      <th></th>\n",
       "      <th></th>\n",
       "      <th></th>\n",
       "      <th></th>\n",
       "      <th></th>\n",
       "      <th></th>\n",
       "    </tr>\n",
       "  </thead>\n",
       "  <tbody>\n",
       "    <tr>\n",
       "      <th>1위</th>\n",
       "      <td>Kanye</td>\n",
       "      <td>42</td>\n",
       "      <td>100</td>\n",
       "      <td>55</td>\n",
       "      <td>33</td>\n",
       "      <td>11</td>\n",
       "      <td>Chicago</td>\n",
       "    </tr>\n",
       "    <tr>\n",
       "      <th>2위</th>\n",
       "      <td>Tyler</td>\n",
       "      <td>31</td>\n",
       "      <td>95</td>\n",
       "      <td>66</td>\n",
       "      <td>22</td>\n",
       "      <td>22</td>\n",
       "      <td>Odd Future</td>\n",
       "    </tr>\n",
       "  </tbody>\n",
       "</table>\n",
       "</div>"
      ],
      "text/plain": [
       "       이름  나이   음악  국어  수학  영어          학교\n",
       "순위                                        \n",
       "1위  Kanye  42  100  55  33  11     Chicago\n",
       "2위  Tyler  31   95  66  22  22  Odd Future"
      ]
     },
     "execution_count": 170,
     "metadata": {},
     "output_type": "execute_result"
    }
   ],
   "source": [
    "df.head(2) #처음 두개의 row 를 불러오기"
   ]
  },
  {
   "cell_type": "code",
   "execution_count": 171,
   "id": "b949b108",
   "metadata": {},
   "outputs": [
    {
     "data": {
      "text/html": [
       "<div>\n",
       "<style scoped>\n",
       "    .dataframe tbody tr th:only-of-type {\n",
       "        vertical-align: middle;\n",
       "    }\n",
       "\n",
       "    .dataframe tbody tr th {\n",
       "        vertical-align: top;\n",
       "    }\n",
       "\n",
       "    .dataframe thead th {\n",
       "        text-align: right;\n",
       "    }\n",
       "</style>\n",
       "<table border=\"1\" class=\"dataframe\">\n",
       "  <thead>\n",
       "    <tr style=\"text-align: right;\">\n",
       "      <th></th>\n",
       "      <th>이름</th>\n",
       "      <th>나이</th>\n",
       "      <th>음악</th>\n",
       "      <th>국어</th>\n",
       "      <th>수학</th>\n",
       "      <th>영어</th>\n",
       "      <th>학교</th>\n",
       "    </tr>\n",
       "    <tr>\n",
       "      <th>순위</th>\n",
       "      <th></th>\n",
       "      <th></th>\n",
       "      <th></th>\n",
       "      <th></th>\n",
       "      <th></th>\n",
       "      <th></th>\n",
       "      <th></th>\n",
       "    </tr>\n",
       "  </thead>\n",
       "  <tbody>\n",
       "    <tr>\n",
       "      <th>3위</th>\n",
       "      <td>Wayne</td>\n",
       "      <td>43</td>\n",
       "      <td>52</td>\n",
       "      <td>77</td>\n",
       "      <td>44</td>\n",
       "      <td>11</td>\n",
       "      <td>Ohio</td>\n",
       "    </tr>\n",
       "  </tbody>\n",
       "</table>\n",
       "</div>"
      ],
      "text/plain": [
       "       이름  나이  음악  국어  수학  영어    학교\n",
       "순위                                 \n",
       "3위  Wayne  43  52  77  44  11  Ohio"
      ]
     },
     "execution_count": 171,
     "metadata": {},
     "output_type": "execute_result"
    }
   ],
   "source": [
    "df.sample() #아무 row 나 가져오기"
   ]
  },
  {
   "cell_type": "code",
   "execution_count": 172,
   "id": "61c89070",
   "metadata": {},
   "outputs": [
    {
     "data": {
      "text/html": [
       "<div>\n",
       "<style scoped>\n",
       "    .dataframe tbody tr th:only-of-type {\n",
       "        vertical-align: middle;\n",
       "    }\n",
       "\n",
       "    .dataframe tbody tr th {\n",
       "        vertical-align: top;\n",
       "    }\n",
       "\n",
       "    .dataframe thead th {\n",
       "        text-align: right;\n",
       "    }\n",
       "</style>\n",
       "<table border=\"1\" class=\"dataframe\">\n",
       "  <thead>\n",
       "    <tr style=\"text-align: right;\">\n",
       "      <th></th>\n",
       "      <th>이름</th>\n",
       "      <th>나이</th>\n",
       "      <th>음악</th>\n",
       "      <th>국어</th>\n",
       "      <th>수학</th>\n",
       "      <th>영어</th>\n",
       "      <th>학교</th>\n",
       "    </tr>\n",
       "    <tr>\n",
       "      <th>순위</th>\n",
       "      <th></th>\n",
       "      <th></th>\n",
       "      <th></th>\n",
       "      <th></th>\n",
       "      <th></th>\n",
       "      <th></th>\n",
       "      <th></th>\n",
       "    </tr>\n",
       "  </thead>\n",
       "  <tbody>\n",
       "    <tr>\n",
       "      <th>6위</th>\n",
       "      <td>Frank</td>\n",
       "      <td>32</td>\n",
       "      <td>99</td>\n",
       "      <td>71</td>\n",
       "      <td>88</td>\n",
       "      <td>74</td>\n",
       "      <td>Blonded</td>\n",
       "    </tr>\n",
       "    <tr>\n",
       "      <th>7위</th>\n",
       "      <td>Kendrick</td>\n",
       "      <td>38</td>\n",
       "      <td>89</td>\n",
       "      <td>99</td>\n",
       "      <td>11</td>\n",
       "      <td>92</td>\n",
       "      <td>Compton</td>\n",
       "    </tr>\n",
       "  </tbody>\n",
       "</table>\n",
       "</div>"
      ],
      "text/plain": [
       "          이름  나이  음악  국어  수학  영어       학교\n",
       "순위                                       \n",
       "6위     Frank  32  99  71  88  74  Blonded\n",
       "7위  Kendrick  38  89  99  11  92  Compton"
      ]
     },
     "execution_count": 172,
     "metadata": {},
     "output_type": "execute_result"
    }
   ],
   "source": [
    "df.tail(2) #마지막 2개의 row 를 가져오기"
   ]
  },
  {
   "cell_type": "code",
   "execution_count": 173,
   "id": "c73bef16",
   "metadata": {},
   "outputs": [
    {
     "data": {
      "text/plain": [
       "array([['Kanye', 42, 100, 55, 33, 11, 'Chicago'],\n",
       "       ['Tyler', 31, 95, 66, 22, 22, 'Odd Future'],\n",
       "       ['Wayne', 43, 52, 77, 44, 11, 'Ohio'],\n",
       "       ['Yachty', 24, 88, 88, 11, 66, 'Ohio'],\n",
       "       ['Drake', 33, 12, 99, 66, 32, 'Toronto'],\n",
       "       ['Frank', 32, 99, 71, 88, 74, 'Blonded'],\n",
       "       ['Kendrick', 38, 89, 99, 11, 92, 'Compton']], dtype=object)"
      ]
     },
     "execution_count": 173,
     "metadata": {},
     "output_type": "execute_result"
    }
   ],
   "source": [
    "df.values"
   ]
  },
  {
   "cell_type": "code",
   "execution_count": 174,
   "id": "f7e7fe96",
   "metadata": {},
   "outputs": [
    {
     "data": {
      "text/plain": [
       "Index(['1위', '2위', '3위', '4위', '5위', '6위', '7위'], dtype='object', name='순위')"
      ]
     },
     "execution_count": 174,
     "metadata": {},
     "output_type": "execute_result"
    }
   ],
   "source": [
    "df.index"
   ]
  },
  {
   "cell_type": "code",
   "execution_count": 175,
   "id": "d5ee2892",
   "metadata": {},
   "outputs": [
    {
     "data": {
      "text/plain": [
       "Index(['이름', '나이', '음악', '국어', '수학', '영어', '학교'], dtype='object')"
      ]
     },
     "execution_count": 175,
     "metadata": {},
     "output_type": "execute_result"
    }
   ],
   "source": [
    "df.columns"
   ]
  },
  {
   "cell_type": "code",
   "execution_count": 176,
   "id": "0306a45f",
   "metadata": {},
   "outputs": [
    {
     "data": {
      "text/plain": [
       "(7, 7)"
      ]
     },
     "execution_count": 176,
     "metadata": {},
     "output_type": "execute_result"
    }
   ],
   "source": [
    "df.shape #(row, column)"
   ]
  },
  {
   "cell_type": "code",
   "execution_count": 177,
   "id": "e5131192",
   "metadata": {},
   "outputs": [
    {
     "data": {
      "text/html": [
       "<div>\n",
       "<style scoped>\n",
       "    .dataframe tbody tr th:only-of-type {\n",
       "        vertical-align: middle;\n",
       "    }\n",
       "\n",
       "    .dataframe tbody tr th {\n",
       "        vertical-align: top;\n",
       "    }\n",
       "\n",
       "    .dataframe thead th {\n",
       "        text-align: right;\n",
       "    }\n",
       "</style>\n",
       "<table border=\"1\" class=\"dataframe\">\n",
       "  <thead>\n",
       "    <tr style=\"text-align: right;\">\n",
       "      <th></th>\n",
       "      <th>이름</th>\n",
       "      <th>나이</th>\n",
       "      <th>음악</th>\n",
       "      <th>국어</th>\n",
       "      <th>수학</th>\n",
       "      <th>영어</th>\n",
       "      <th>학교</th>\n",
       "    </tr>\n",
       "    <tr>\n",
       "      <th>순위</th>\n",
       "      <th></th>\n",
       "      <th></th>\n",
       "      <th></th>\n",
       "      <th></th>\n",
       "      <th></th>\n",
       "      <th></th>\n",
       "      <th></th>\n",
       "    </tr>\n",
       "  </thead>\n",
       "  <tbody>\n",
       "    <tr>\n",
       "      <th>1위</th>\n",
       "      <td>Kanye</td>\n",
       "      <td>42</td>\n",
       "      <td>100</td>\n",
       "      <td>55</td>\n",
       "      <td>33</td>\n",
       "      <td>11</td>\n",
       "      <td>Chicago</td>\n",
       "    </tr>\n",
       "    <tr>\n",
       "      <th>2위</th>\n",
       "      <td>Tyler</td>\n",
       "      <td>31</td>\n",
       "      <td>95</td>\n",
       "      <td>66</td>\n",
       "      <td>22</td>\n",
       "      <td>22</td>\n",
       "      <td>Odd Future</td>\n",
       "    </tr>\n",
       "    <tr>\n",
       "      <th>3위</th>\n",
       "      <td>Wayne</td>\n",
       "      <td>43</td>\n",
       "      <td>52</td>\n",
       "      <td>77</td>\n",
       "      <td>44</td>\n",
       "      <td>11</td>\n",
       "      <td>Ohio</td>\n",
       "    </tr>\n",
       "    <tr>\n",
       "      <th>4위</th>\n",
       "      <td>Yachty</td>\n",
       "      <td>24</td>\n",
       "      <td>88</td>\n",
       "      <td>88</td>\n",
       "      <td>11</td>\n",
       "      <td>66</td>\n",
       "      <td>Ohio</td>\n",
       "    </tr>\n",
       "    <tr>\n",
       "      <th>5위</th>\n",
       "      <td>Drake</td>\n",
       "      <td>33</td>\n",
       "      <td>12</td>\n",
       "      <td>99</td>\n",
       "      <td>66</td>\n",
       "      <td>32</td>\n",
       "      <td>Toronto</td>\n",
       "    </tr>\n",
       "    <tr>\n",
       "      <th>6위</th>\n",
       "      <td>Frank</td>\n",
       "      <td>32</td>\n",
       "      <td>99</td>\n",
       "      <td>71</td>\n",
       "      <td>88</td>\n",
       "      <td>74</td>\n",
       "      <td>Blonded</td>\n",
       "    </tr>\n",
       "    <tr>\n",
       "      <th>7위</th>\n",
       "      <td>Kendrick</td>\n",
       "      <td>38</td>\n",
       "      <td>89</td>\n",
       "      <td>99</td>\n",
       "      <td>11</td>\n",
       "      <td>92</td>\n",
       "      <td>Compton</td>\n",
       "    </tr>\n",
       "  </tbody>\n",
       "</table>\n",
       "</div>"
      ],
      "text/plain": [
       "          이름  나이   음악  국어  수학  영어          학교\n",
       "순위                                           \n",
       "1위     Kanye  42  100  55  33  11     Chicago\n",
       "2위     Tyler  31   95  66  22  22  Odd Future\n",
       "3위     Wayne  43   52  77  44  11        Ohio\n",
       "4위    Yachty  24   88  88  11  66        Ohio\n",
       "5위     Drake  33   12  99  66  32     Toronto\n",
       "6위     Frank  32   99  71  88  74     Blonded\n",
       "7위  Kendrick  38   89  99  11  92     Compton"
      ]
     },
     "execution_count": 177,
     "metadata": {},
     "output_type": "execute_result"
    }
   ],
   "source": [
    "df"
   ]
  },
  {
   "cell_type": "code",
   "execution_count": 178,
   "id": "35fce9dc",
   "metadata": {},
   "outputs": [
    {
     "data": {
      "text/plain": [
       "12"
      ]
     },
     "execution_count": 178,
     "metadata": {},
     "output_type": "execute_result"
    }
   ],
   "source": [
    "df['음악'].min() #음악 부문 최하점"
   ]
  },
  {
   "cell_type": "code",
   "execution_count": 179,
   "id": "3d755e7e",
   "metadata": {},
   "outputs": [
    {
     "data": {
      "text/plain": [
       "88"
      ]
     },
     "execution_count": 179,
     "metadata": {},
     "output_type": "execute_result"
    }
   ],
   "source": [
    "df['수학'].max()"
   ]
  },
  {
   "cell_type": "code",
   "execution_count": 180,
   "id": "c99585d7",
   "metadata": {},
   "outputs": [
    {
     "data": {
      "text/plain": [
       "순위\n",
       "1위    100\n",
       "6위     99\n",
       "2위     95\n",
       "Name: 음악, dtype: int64"
      ]
     },
     "execution_count": 180,
     "metadata": {},
     "output_type": "execute_result"
    }
   ],
   "source": [
    "df['음악'].nlargest(3) #가장 점수 높은 순서대로 3명"
   ]
  },
  {
   "cell_type": "code",
   "execution_count": 181,
   "id": "8f53207d",
   "metadata": {},
   "outputs": [
    {
     "data": {
      "text/plain": [
       "76.42857142857143"
      ]
     },
     "execution_count": 181,
     "metadata": {},
     "output_type": "execute_result"
    }
   ],
   "source": [
    "df['음악'].mean() #음악 부문 평균 #sum은 합계"
   ]
  },
  {
   "cell_type": "code",
   "execution_count": 182,
   "id": "5bb318ba",
   "metadata": {},
   "outputs": [
    {
     "data": {
      "text/plain": [
       "7"
      ]
     },
     "execution_count": 182,
     "metadata": {},
     "output_type": "execute_result"
    }
   ],
   "source": [
    "df['영어'].count() #존재하는 데이터는 몇개인가"
   ]
  },
  {
   "cell_type": "code",
   "execution_count": 183,
   "id": "7ab1559e",
   "metadata": {},
   "outputs": [
    {
     "data": {
      "text/plain": [
       "array(['Chicago', 'Odd Future', 'Ohio', 'Toronto', 'Blonded', 'Compton'],\n",
       "      dtype=object)"
      ]
     },
     "execution_count": 183,
     "metadata": {},
     "output_type": "execute_result"
    }
   ],
   "source": [
    "df['학교'].unique()"
   ]
  },
  {
   "cell_type": "code",
   "execution_count": 184,
   "id": "43ffbc87",
   "metadata": {},
   "outputs": [
    {
     "data": {
      "text/plain": [
       "6"
      ]
     },
     "execution_count": 184,
     "metadata": {},
     "output_type": "execute_result"
    }
   ],
   "source": [
    "df['학교'].nunique()"
   ]
  },
  {
   "cell_type": "markdown",
   "id": "479a56f1",
   "metadata": {},
   "source": [
    "# 데이터 선택 (기본)"
   ]
  },
  {
   "cell_type": "markdown",
   "id": "9cc5a29a",
   "metadata": {},
   "source": [
    "## Column 선택 (label)"
   ]
  },
  {
   "cell_type": "code",
   "execution_count": 185,
   "id": "3becce3a",
   "metadata": {},
   "outputs": [
    {
     "data": {
      "text/plain": [
       "순위\n",
       "1위       Kanye\n",
       "2위       Tyler\n",
       "3위       Wayne\n",
       "4위      Yachty\n",
       "5위       Drake\n",
       "6위       Frank\n",
       "7위    Kendrick\n",
       "Name: 이름, dtype: object"
      ]
     },
     "execution_count": 185,
     "metadata": {},
     "output_type": "execute_result"
    }
   ],
   "source": [
    "df['이름'] #이름에 대한 데이터를 가져온 것"
   ]
  },
  {
   "cell_type": "markdown",
   "id": "c687ef58",
   "metadata": {},
   "source": [
    "### Index 이용"
   ]
  },
  {
   "cell_type": "code",
   "execution_count": 186,
   "id": "47a5f7bf",
   "metadata": {},
   "outputs": [
    {
     "data": {
      "text/plain": [
       "Index(['이름', '나이', '음악', '국어', '수학', '영어', '학교'], dtype='object')"
      ]
     },
     "execution_count": 186,
     "metadata": {},
     "output_type": "execute_result"
    }
   ],
   "source": [
    "df.columns"
   ]
  },
  {
   "cell_type": "code",
   "execution_count": 187,
   "id": "65f8f3c0",
   "metadata": {},
   "outputs": [
    {
     "data": {
      "text/plain": [
       "'이름'"
      ]
     },
     "execution_count": 187,
     "metadata": {},
     "output_type": "execute_result"
    }
   ],
   "source": [
    "df.columns[0]"
   ]
  },
  {
   "cell_type": "code",
   "execution_count": 188,
   "id": "63596dc5",
   "metadata": {},
   "outputs": [
    {
     "data": {
      "text/plain": [
       "순위\n",
       "1위       Kanye\n",
       "2위       Tyler\n",
       "3위       Wayne\n",
       "4위      Yachty\n",
       "5위       Drake\n",
       "6위       Frank\n",
       "7위    Kendrick\n",
       "Name: 이름, dtype: object"
      ]
     },
     "execution_count": 188,
     "metadata": {},
     "output_type": "execute_result"
    }
   ],
   "source": [
    "df[df.columns[0]] #Index 값을 이용해 불러왔다, df['이름'] 과 동일한 동작"
   ]
  },
  {
   "cell_type": "code",
   "execution_count": 189,
   "id": "ca6a6370",
   "metadata": {},
   "outputs": [
    {
     "data": {
      "text/plain": [
       "순위\n",
       "1위       Chicago\n",
       "2위    Odd Future\n",
       "3위          Ohio\n",
       "4위          Ohio\n",
       "5위       Toronto\n",
       "6위       Blonded\n",
       "7위       Compton\n",
       "Name: 학교, dtype: object"
      ]
     },
     "execution_count": 189,
     "metadata": {},
     "output_type": "execute_result"
    }
   ],
   "source": [
    "df[df.columns[-1]] #맨 끝에 있는 '학교' 를 가져옴"
   ]
  },
  {
   "cell_type": "markdown",
   "id": "d7a807d2",
   "metadata": {},
   "source": [
    "### 슬라이싱"
   ]
  },
  {
   "cell_type": "code",
   "execution_count": 190,
   "id": "0d6320b4",
   "metadata": {},
   "outputs": [
    {
     "data": {
      "text/plain": [
       "순위\n",
       "1위    11\n",
       "2위    22\n",
       "3위    11\n",
       "Name: 영어, dtype: int64"
      ]
     },
     "execution_count": 190,
     "metadata": {},
     "output_type": "execute_result"
    }
   ],
   "source": [
    "df['영어'][0:3] #인덱스 0 부터 2 까지의 영어 점수를 가져온다"
   ]
  },
  {
   "cell_type": "code",
   "execution_count": 191,
   "id": "61fd2283",
   "metadata": {},
   "outputs": [
    {
     "data": {
      "text/html": [
       "<div>\n",
       "<style scoped>\n",
       "    .dataframe tbody tr th:only-of-type {\n",
       "        vertical-align: middle;\n",
       "    }\n",
       "\n",
       "    .dataframe tbody tr th {\n",
       "        vertical-align: top;\n",
       "    }\n",
       "\n",
       "    .dataframe thead th {\n",
       "        text-align: right;\n",
       "    }\n",
       "</style>\n",
       "<table border=\"1\" class=\"dataframe\">\n",
       "  <thead>\n",
       "    <tr style=\"text-align: right;\">\n",
       "      <th></th>\n",
       "      <th>음악</th>\n",
       "      <th>국어</th>\n",
       "    </tr>\n",
       "    <tr>\n",
       "      <th>순위</th>\n",
       "      <th></th>\n",
       "      <th></th>\n",
       "    </tr>\n",
       "  </thead>\n",
       "  <tbody>\n",
       "    <tr>\n",
       "      <th>1위</th>\n",
       "      <td>100</td>\n",
       "      <td>55</td>\n",
       "    </tr>\n",
       "    <tr>\n",
       "      <th>2위</th>\n",
       "      <td>95</td>\n",
       "      <td>66</td>\n",
       "    </tr>\n",
       "    <tr>\n",
       "      <th>3위</th>\n",
       "      <td>52</td>\n",
       "      <td>77</td>\n",
       "    </tr>\n",
       "    <tr>\n",
       "      <th>4위</th>\n",
       "      <td>88</td>\n",
       "      <td>88</td>\n",
       "    </tr>\n",
       "  </tbody>\n",
       "</table>\n",
       "</div>"
      ],
      "text/plain": [
       "     음악  국어\n",
       "순위         \n",
       "1위  100  55\n",
       "2위   95  66\n",
       "3위   52  77\n",
       "4위   88  88"
      ]
     },
     "execution_count": 191,
     "metadata": {},
     "output_type": "execute_result"
    }
   ],
   "source": [
    "df[['음악','국어']][0:4] #인덱스 0에서 3 까지의 음악과 국어 점수 가져오기"
   ]
  },
  {
   "cell_type": "code",
   "execution_count": 192,
   "id": "1c5abd06",
   "metadata": {},
   "outputs": [
    {
     "data": {
      "text/html": [
       "<div>\n",
       "<style scoped>\n",
       "    .dataframe tbody tr th:only-of-type {\n",
       "        vertical-align: middle;\n",
       "    }\n",
       "\n",
       "    .dataframe tbody tr th {\n",
       "        vertical-align: top;\n",
       "    }\n",
       "\n",
       "    .dataframe thead th {\n",
       "        text-align: right;\n",
       "    }\n",
       "</style>\n",
       "<table border=\"1\" class=\"dataframe\">\n",
       "  <thead>\n",
       "    <tr style=\"text-align: right;\">\n",
       "      <th></th>\n",
       "      <th>이름</th>\n",
       "      <th>나이</th>\n",
       "      <th>음악</th>\n",
       "      <th>국어</th>\n",
       "      <th>수학</th>\n",
       "      <th>영어</th>\n",
       "      <th>학교</th>\n",
       "    </tr>\n",
       "    <tr>\n",
       "      <th>순위</th>\n",
       "      <th></th>\n",
       "      <th></th>\n",
       "      <th></th>\n",
       "      <th></th>\n",
       "      <th></th>\n",
       "      <th></th>\n",
       "      <th></th>\n",
       "    </tr>\n",
       "  </thead>\n",
       "  <tbody>\n",
       "    <tr>\n",
       "      <th>4위</th>\n",
       "      <td>Yachty</td>\n",
       "      <td>24</td>\n",
       "      <td>88</td>\n",
       "      <td>88</td>\n",
       "      <td>11</td>\n",
       "      <td>66</td>\n",
       "      <td>Ohio</td>\n",
       "    </tr>\n",
       "    <tr>\n",
       "      <th>5위</th>\n",
       "      <td>Drake</td>\n",
       "      <td>33</td>\n",
       "      <td>12</td>\n",
       "      <td>99</td>\n",
       "      <td>66</td>\n",
       "      <td>32</td>\n",
       "      <td>Toronto</td>\n",
       "    </tr>\n",
       "    <tr>\n",
       "      <th>6위</th>\n",
       "      <td>Frank</td>\n",
       "      <td>32</td>\n",
       "      <td>99</td>\n",
       "      <td>71</td>\n",
       "      <td>88</td>\n",
       "      <td>74</td>\n",
       "      <td>Blonded</td>\n",
       "    </tr>\n",
       "  </tbody>\n",
       "</table>\n",
       "</div>"
      ],
      "text/plain": [
       "        이름  나이  음악  국어  수학  영어       학교\n",
       "순위                                     \n",
       "4위  Yachty  24  88  88  11  66     Ohio\n",
       "5위   Drake  33  12  99  66  32  Toronto\n",
       "6위   Frank  32  99  71  88  74  Blonded"
      ]
     },
     "execution_count": 192,
     "metadata": {},
     "output_type": "execute_result"
    }
   ],
   "source": [
    "df[3:6] #인덱스 3에서 5까지 가져온다, 인덱스를 1번부터 설정했으므로 3,4,5 는 실제로 4위 5위 6위"
   ]
  },
  {
   "cell_type": "markdown",
   "id": "115672c2",
   "metadata": {},
   "source": [
    "# 데이터 선택 (loc)\n",
    "이름을 이용하여 원하는 row 에서 원하는 column 선택"
   ]
  },
  {
   "cell_type": "code",
   "execution_count": 193,
   "id": "36c42d5b",
   "metadata": {},
   "outputs": [
    {
     "data": {
      "text/html": [
       "<div>\n",
       "<style scoped>\n",
       "    .dataframe tbody tr th:only-of-type {\n",
       "        vertical-align: middle;\n",
       "    }\n",
       "\n",
       "    .dataframe tbody tr th {\n",
       "        vertical-align: top;\n",
       "    }\n",
       "\n",
       "    .dataframe thead th {\n",
       "        text-align: right;\n",
       "    }\n",
       "</style>\n",
       "<table border=\"1\" class=\"dataframe\">\n",
       "  <thead>\n",
       "    <tr style=\"text-align: right;\">\n",
       "      <th></th>\n",
       "      <th>이름</th>\n",
       "      <th>나이</th>\n",
       "      <th>음악</th>\n",
       "      <th>국어</th>\n",
       "      <th>수학</th>\n",
       "      <th>영어</th>\n",
       "      <th>학교</th>\n",
       "    </tr>\n",
       "    <tr>\n",
       "      <th>순위</th>\n",
       "      <th></th>\n",
       "      <th></th>\n",
       "      <th></th>\n",
       "      <th></th>\n",
       "      <th></th>\n",
       "      <th></th>\n",
       "      <th></th>\n",
       "    </tr>\n",
       "  </thead>\n",
       "  <tbody>\n",
       "    <tr>\n",
       "      <th>1위</th>\n",
       "      <td>Kanye</td>\n",
       "      <td>42</td>\n",
       "      <td>100</td>\n",
       "      <td>55</td>\n",
       "      <td>33</td>\n",
       "      <td>11</td>\n",
       "      <td>Chicago</td>\n",
       "    </tr>\n",
       "    <tr>\n",
       "      <th>2위</th>\n",
       "      <td>Tyler</td>\n",
       "      <td>31</td>\n",
       "      <td>95</td>\n",
       "      <td>66</td>\n",
       "      <td>22</td>\n",
       "      <td>22</td>\n",
       "      <td>Odd Future</td>\n",
       "    </tr>\n",
       "    <tr>\n",
       "      <th>3위</th>\n",
       "      <td>Wayne</td>\n",
       "      <td>43</td>\n",
       "      <td>52</td>\n",
       "      <td>77</td>\n",
       "      <td>44</td>\n",
       "      <td>11</td>\n",
       "      <td>Ohio</td>\n",
       "    </tr>\n",
       "    <tr>\n",
       "      <th>4위</th>\n",
       "      <td>Yachty</td>\n",
       "      <td>24</td>\n",
       "      <td>88</td>\n",
       "      <td>88</td>\n",
       "      <td>11</td>\n",
       "      <td>66</td>\n",
       "      <td>Ohio</td>\n",
       "    </tr>\n",
       "    <tr>\n",
       "      <th>5위</th>\n",
       "      <td>Drake</td>\n",
       "      <td>33</td>\n",
       "      <td>12</td>\n",
       "      <td>99</td>\n",
       "      <td>66</td>\n",
       "      <td>32</td>\n",
       "      <td>Toronto</td>\n",
       "    </tr>\n",
       "    <tr>\n",
       "      <th>6위</th>\n",
       "      <td>Frank</td>\n",
       "      <td>32</td>\n",
       "      <td>99</td>\n",
       "      <td>71</td>\n",
       "      <td>88</td>\n",
       "      <td>74</td>\n",
       "      <td>Blonded</td>\n",
       "    </tr>\n",
       "    <tr>\n",
       "      <th>7위</th>\n",
       "      <td>Kendrick</td>\n",
       "      <td>38</td>\n",
       "      <td>89</td>\n",
       "      <td>99</td>\n",
       "      <td>11</td>\n",
       "      <td>92</td>\n",
       "      <td>Compton</td>\n",
       "    </tr>\n",
       "  </tbody>\n",
       "</table>\n",
       "</div>"
      ],
      "text/plain": [
       "          이름  나이   음악  국어  수학  영어          학교\n",
       "순위                                           \n",
       "1위     Kanye  42  100  55  33  11     Chicago\n",
       "2위     Tyler  31   95  66  22  22  Odd Future\n",
       "3위     Wayne  43   52  77  44  11        Ohio\n",
       "4위    Yachty  24   88  88  11  66        Ohio\n",
       "5위     Drake  33   12  99  66  32     Toronto\n",
       "6위     Frank  32   99  71  88  74     Blonded\n",
       "7위  Kendrick  38   89  99  11  92     Compton"
      ]
     },
     "execution_count": 193,
     "metadata": {},
     "output_type": "execute_result"
    }
   ],
   "source": [
    "df"
   ]
  },
  {
   "cell_type": "code",
   "execution_count": 195,
   "id": "e62a26c1",
   "metadata": {},
   "outputs": [
    {
     "data": {
      "text/plain": [
       "이름      Kanye\n",
       "나이         42\n",
       "음악        100\n",
       "국어         55\n",
       "수학         33\n",
       "영어         11\n",
       "학교    Chicago\n",
       "Name: 1위, dtype: object"
      ]
     },
     "execution_count": 195,
     "metadata": {},
     "output_type": "execute_result"
    }
   ],
   "source": [
    "df.loc['1위'] #1위 학생의 정보를 불러온다"
   ]
  },
  {
   "cell_type": "code",
   "execution_count": 196,
   "id": "1e337c95",
   "metadata": {},
   "outputs": [
    {
     "data": {
      "text/plain": [
       "100"
      ]
     },
     "execution_count": 196,
     "metadata": {},
     "output_type": "execute_result"
    }
   ],
   "source": [
    "df.loc['1위', '음악'] #1위의 음악 성적을 불러온다"
   ]
  },
  {
   "cell_type": "code",
   "execution_count": 197,
   "id": "650d522d",
   "metadata": {},
   "outputs": [
    {
     "data": {
      "text/html": [
       "<div>\n",
       "<style scoped>\n",
       "    .dataframe tbody tr th:only-of-type {\n",
       "        vertical-align: middle;\n",
       "    }\n",
       "\n",
       "    .dataframe tbody tr th {\n",
       "        vertical-align: top;\n",
       "    }\n",
       "\n",
       "    .dataframe thead th {\n",
       "        text-align: right;\n",
       "    }\n",
       "</style>\n",
       "<table border=\"1\" class=\"dataframe\">\n",
       "  <thead>\n",
       "    <tr style=\"text-align: right;\">\n",
       "      <th></th>\n",
       "      <th>음악</th>\n",
       "      <th>영어</th>\n",
       "      <th>국어</th>\n",
       "    </tr>\n",
       "    <tr>\n",
       "      <th>순위</th>\n",
       "      <th></th>\n",
       "      <th></th>\n",
       "      <th></th>\n",
       "    </tr>\n",
       "  </thead>\n",
       "  <tbody>\n",
       "    <tr>\n",
       "      <th>1위</th>\n",
       "      <td>100</td>\n",
       "      <td>11</td>\n",
       "      <td>55</td>\n",
       "    </tr>\n",
       "    <tr>\n",
       "      <th>2위</th>\n",
       "      <td>95</td>\n",
       "      <td>22</td>\n",
       "      <td>66</td>\n",
       "    </tr>\n",
       "    <tr>\n",
       "      <th>3위</th>\n",
       "      <td>52</td>\n",
       "      <td>11</td>\n",
       "      <td>77</td>\n",
       "    </tr>\n",
       "    <tr>\n",
       "      <th>4위</th>\n",
       "      <td>88</td>\n",
       "      <td>66</td>\n",
       "      <td>88</td>\n",
       "    </tr>\n",
       "  </tbody>\n",
       "</table>\n",
       "</div>"
      ],
      "text/plain": [
       "     음악  영어  국어\n",
       "순위             \n",
       "1위  100  11  55\n",
       "2위   95  22  66\n",
       "3위   52  11  77\n",
       "4위   88  66  88"
      ]
     },
     "execution_count": 197,
     "metadata": {},
     "output_type": "execute_result"
    }
   ],
   "source": [
    "df.loc[['1위','2위','3위','4위'], ['음악','영어','국어']] #1위,2위,3위,4위의 음악 영어 국어 성적을 불러온다"
   ]
  },
  {
   "cell_type": "code",
   "execution_count": 199,
   "id": "0ef66b00",
   "metadata": {},
   "outputs": [
    {
     "data": {
      "text/html": [
       "<div>\n",
       "<style scoped>\n",
       "    .dataframe tbody tr th:only-of-type {\n",
       "        vertical-align: middle;\n",
       "    }\n",
       "\n",
       "    .dataframe tbody tr th {\n",
       "        vertical-align: top;\n",
       "    }\n",
       "\n",
       "    .dataframe thead th {\n",
       "        text-align: right;\n",
       "    }\n",
       "</style>\n",
       "<table border=\"1\" class=\"dataframe\">\n",
       "  <thead>\n",
       "    <tr style=\"text-align: right;\">\n",
       "      <th></th>\n",
       "      <th>이름</th>\n",
       "      <th>나이</th>\n",
       "      <th>음악</th>\n",
       "      <th>국어</th>\n",
       "      <th>수학</th>\n",
       "      <th>영어</th>\n",
       "      <th>학교</th>\n",
       "    </tr>\n",
       "    <tr>\n",
       "      <th>순위</th>\n",
       "      <th></th>\n",
       "      <th></th>\n",
       "      <th></th>\n",
       "      <th></th>\n",
       "      <th></th>\n",
       "      <th></th>\n",
       "      <th></th>\n",
       "    </tr>\n",
       "  </thead>\n",
       "  <tbody>\n",
       "    <tr>\n",
       "      <th>1위</th>\n",
       "      <td>Kanye</td>\n",
       "      <td>42</td>\n",
       "      <td>100</td>\n",
       "      <td>55</td>\n",
       "      <td>33</td>\n",
       "      <td>11</td>\n",
       "      <td>Chicago</td>\n",
       "    </tr>\n",
       "    <tr>\n",
       "      <th>2위</th>\n",
       "      <td>Tyler</td>\n",
       "      <td>31</td>\n",
       "      <td>95</td>\n",
       "      <td>66</td>\n",
       "      <td>22</td>\n",
       "      <td>22</td>\n",
       "      <td>Odd Future</td>\n",
       "    </tr>\n",
       "    <tr>\n",
       "      <th>3위</th>\n",
       "      <td>Wayne</td>\n",
       "      <td>43</td>\n",
       "      <td>52</td>\n",
       "      <td>77</td>\n",
       "      <td>44</td>\n",
       "      <td>11</td>\n",
       "      <td>Ohio</td>\n",
       "    </tr>\n",
       "    <tr>\n",
       "      <th>4위</th>\n",
       "      <td>Yachty</td>\n",
       "      <td>24</td>\n",
       "      <td>88</td>\n",
       "      <td>88</td>\n",
       "      <td>11</td>\n",
       "      <td>66</td>\n",
       "      <td>Ohio</td>\n",
       "    </tr>\n",
       "    <tr>\n",
       "      <th>5위</th>\n",
       "      <td>Drake</td>\n",
       "      <td>33</td>\n",
       "      <td>12</td>\n",
       "      <td>99</td>\n",
       "      <td>66</td>\n",
       "      <td>32</td>\n",
       "      <td>Toronto</td>\n",
       "    </tr>\n",
       "  </tbody>\n",
       "</table>\n",
       "</div>"
      ],
      "text/plain": [
       "        이름  나이   음악  국어  수학  영어          학교\n",
       "순위                                         \n",
       "1위   Kanye  42  100  55  33  11     Chicago\n",
       "2위   Tyler  31   95  66  22  22  Odd Future\n",
       "3위   Wayne  43   52  77  44  11        Ohio\n",
       "4위  Yachty  24   88  88  11  66        Ohio\n",
       "5위   Drake  33   12  99  66  32     Toronto"
      ]
     },
     "execution_count": 199,
     "metadata": {},
     "output_type": "execute_result"
    }
   ],
   "source": [
    "df.loc['1위':'5위'] #1위 에서 5위 까지의 정보를 불러온다, 인덱스를 직접 '5위' 와 같이 쓰면 5위를 포함해서 가져온다"
   ]
  },
  {
   "cell_type": "markdown",
   "id": "1aa5ba50",
   "metadata": {},
   "source": [
    "# 데이터 선택 (iloc)\n",
    "인덱스 이름이 아닌 위치를 이용하여 원하는 column 선택"
   ]
  },
  {
   "cell_type": "code",
   "execution_count": 204,
   "id": "f3e65ff3",
   "metadata": {},
   "outputs": [
    {
     "data": {
      "text/plain": [
       "이름      Kanye\n",
       "나이         42\n",
       "음악        100\n",
       "국어         55\n",
       "수학         33\n",
       "영어         11\n",
       "학교    Chicago\n",
       "Name: 1위, dtype: object"
      ]
     },
     "execution_count": 204,
     "metadata": {},
     "output_type": "execute_result"
    }
   ],
   "source": [
    "df.iloc[0] #0번째 위치 = 1위 = Kanye"
   ]
  },
  {
   "cell_type": "code",
   "execution_count": 205,
   "id": "44fd48a0",
   "metadata": {},
   "outputs": [
    {
     "data": {
      "text/html": [
       "<div>\n",
       "<style scoped>\n",
       "    .dataframe tbody tr th:only-of-type {\n",
       "        vertical-align: middle;\n",
       "    }\n",
       "\n",
       "    .dataframe tbody tr th {\n",
       "        vertical-align: top;\n",
       "    }\n",
       "\n",
       "    .dataframe thead th {\n",
       "        text-align: right;\n",
       "    }\n",
       "</style>\n",
       "<table border=\"1\" class=\"dataframe\">\n",
       "  <thead>\n",
       "    <tr style=\"text-align: right;\">\n",
       "      <th></th>\n",
       "      <th>이름</th>\n",
       "      <th>나이</th>\n",
       "      <th>음악</th>\n",
       "      <th>국어</th>\n",
       "      <th>수학</th>\n",
       "      <th>영어</th>\n",
       "      <th>학교</th>\n",
       "    </tr>\n",
       "    <tr>\n",
       "      <th>순위</th>\n",
       "      <th></th>\n",
       "      <th></th>\n",
       "      <th></th>\n",
       "      <th></th>\n",
       "      <th></th>\n",
       "      <th></th>\n",
       "      <th></th>\n",
       "    </tr>\n",
       "  </thead>\n",
       "  <tbody>\n",
       "    <tr>\n",
       "      <th>1위</th>\n",
       "      <td>Kanye</td>\n",
       "      <td>42</td>\n",
       "      <td>100</td>\n",
       "      <td>55</td>\n",
       "      <td>33</td>\n",
       "      <td>11</td>\n",
       "      <td>Chicago</td>\n",
       "    </tr>\n",
       "    <tr>\n",
       "      <th>2위</th>\n",
       "      <td>Tyler</td>\n",
       "      <td>31</td>\n",
       "      <td>95</td>\n",
       "      <td>66</td>\n",
       "      <td>22</td>\n",
       "      <td>22</td>\n",
       "      <td>Odd Future</td>\n",
       "    </tr>\n",
       "    <tr>\n",
       "      <th>3위</th>\n",
       "      <td>Wayne</td>\n",
       "      <td>43</td>\n",
       "      <td>52</td>\n",
       "      <td>77</td>\n",
       "      <td>44</td>\n",
       "      <td>11</td>\n",
       "      <td>Ohio</td>\n",
       "    </tr>\n",
       "    <tr>\n",
       "      <th>4위</th>\n",
       "      <td>Yachty</td>\n",
       "      <td>24</td>\n",
       "      <td>88</td>\n",
       "      <td>88</td>\n",
       "      <td>11</td>\n",
       "      <td>66</td>\n",
       "      <td>Ohio</td>\n",
       "    </tr>\n",
       "  </tbody>\n",
       "</table>\n",
       "</div>"
      ],
      "text/plain": [
       "        이름  나이   음악  국어  수학  영어          학교\n",
       "순위                                         \n",
       "1위   Kanye  42  100  55  33  11     Chicago\n",
       "2위   Tyler  31   95  66  22  22  Odd Future\n",
       "3위   Wayne  43   52  77  44  11        Ohio\n",
       "4위  Yachty  24   88  88  11  66        Ohio"
      ]
     },
     "execution_count": 205,
     "metadata": {},
     "output_type": "execute_result"
    }
   ],
   "source": [
    "df.iloc[0:4] #4를 포함하지 않고 0,1,2,3번째 -> 1위, 2위, 3위, 4위"
   ]
  },
  {
   "cell_type": "code",
   "execution_count": 215,
   "id": "57e5813d",
   "metadata": {},
   "outputs": [
    {
     "data": {
      "text/html": [
       "<div>\n",
       "<style scoped>\n",
       "    .dataframe tbody tr th:only-of-type {\n",
       "        vertical-align: middle;\n",
       "    }\n",
       "\n",
       "    .dataframe tbody tr th {\n",
       "        vertical-align: top;\n",
       "    }\n",
       "\n",
       "    .dataframe thead th {\n",
       "        text-align: right;\n",
       "    }\n",
       "</style>\n",
       "<table border=\"1\" class=\"dataframe\">\n",
       "  <thead>\n",
       "    <tr style=\"text-align: right;\">\n",
       "      <th></th>\n",
       "      <th>이름</th>\n",
       "      <th>나이</th>\n",
       "      <th>음악</th>\n",
       "    </tr>\n",
       "    <tr>\n",
       "      <th>순위</th>\n",
       "      <th></th>\n",
       "      <th></th>\n",
       "      <th></th>\n",
       "    </tr>\n",
       "  </thead>\n",
       "  <tbody>\n",
       "    <tr>\n",
       "      <th>1위</th>\n",
       "      <td>Kanye</td>\n",
       "      <td>42</td>\n",
       "      <td>100</td>\n",
       "    </tr>\n",
       "    <tr>\n",
       "      <th>2위</th>\n",
       "      <td>Tyler</td>\n",
       "      <td>31</td>\n",
       "      <td>95</td>\n",
       "    </tr>\n",
       "    <tr>\n",
       "      <th>3위</th>\n",
       "      <td>Wayne</td>\n",
       "      <td>43</td>\n",
       "      <td>52</td>\n",
       "    </tr>\n",
       "  </tbody>\n",
       "</table>\n",
       "</div>"
      ],
      "text/plain": [
       "       이름  나이   음악\n",
       "순위                \n",
       "1위  Kanye  42  100\n",
       "2위  Tyler  31   95\n",
       "3위  Wayne  43   52"
      ]
     },
     "execution_count": 215,
     "metadata": {},
     "output_type": "execute_result"
    }
   ],
   "source": [
    "df.iloc[[0,1,2], [0,1,2]] #[[0,1,2], [0,1,2]] -> 0번째, 1번째, 2번째의 순위 이름 나이 음악을 가져온다 (순위는 인덱스, 항상 포함)"
   ]
  },
  {
   "cell_type": "code",
   "execution_count": 217,
   "id": "a7021a9c",
   "metadata": {},
   "outputs": [
    {
     "data": {
      "text/html": [
       "<div>\n",
       "<style scoped>\n",
       "    .dataframe tbody tr th:only-of-type {\n",
       "        vertical-align: middle;\n",
       "    }\n",
       "\n",
       "    .dataframe tbody tr th {\n",
       "        vertical-align: top;\n",
       "    }\n",
       "\n",
       "    .dataframe thead th {\n",
       "        text-align: right;\n",
       "    }\n",
       "</style>\n",
       "<table border=\"1\" class=\"dataframe\">\n",
       "  <thead>\n",
       "    <tr style=\"text-align: right;\">\n",
       "      <th></th>\n",
       "      <th>이름</th>\n",
       "      <th>나이</th>\n",
       "      <th>음악</th>\n",
       "    </tr>\n",
       "    <tr>\n",
       "      <th>순위</th>\n",
       "      <th></th>\n",
       "      <th></th>\n",
       "      <th></th>\n",
       "    </tr>\n",
       "  </thead>\n",
       "  <tbody>\n",
       "    <tr>\n",
       "      <th>1위</th>\n",
       "      <td>Kanye</td>\n",
       "      <td>42</td>\n",
       "      <td>100</td>\n",
       "    </tr>\n",
       "    <tr>\n",
       "      <th>2위</th>\n",
       "      <td>Tyler</td>\n",
       "      <td>31</td>\n",
       "      <td>95</td>\n",
       "    </tr>\n",
       "    <tr>\n",
       "      <th>3위</th>\n",
       "      <td>Wayne</td>\n",
       "      <td>43</td>\n",
       "      <td>52</td>\n",
       "    </tr>\n",
       "  </tbody>\n",
       "</table>\n",
       "</div>"
      ],
      "text/plain": [
       "       이름  나이   음악\n",
       "순위                \n",
       "1위  Kanye  42  100\n",
       "2위  Tyler  31   95\n",
       "3위  Wayne  43   52"
      ]
     },
     "execution_count": 217,
     "metadata": {},
     "output_type": "execute_result"
    }
   ],
   "source": [
    "df.iloc[0:3, 0:3] #위와 같지만 슬라이싱을 이용"
   ]
  },
  {
   "cell_type": "markdown",
   "id": "5eb9a53a",
   "metadata": {},
   "source": [
    "# 데이터 선택 (조건)\n",
    "조건에 해당하는 데이터 선택"
   ]
  },
  {
   "cell_type": "code",
   "execution_count": 218,
   "id": "4b6da8e0",
   "metadata": {},
   "outputs": [
    {
     "data": {
      "text/html": [
       "<div>\n",
       "<style scoped>\n",
       "    .dataframe tbody tr th:only-of-type {\n",
       "        vertical-align: middle;\n",
       "    }\n",
       "\n",
       "    .dataframe tbody tr th {\n",
       "        vertical-align: top;\n",
       "    }\n",
       "\n",
       "    .dataframe thead th {\n",
       "        text-align: right;\n",
       "    }\n",
       "</style>\n",
       "<table border=\"1\" class=\"dataframe\">\n",
       "  <thead>\n",
       "    <tr style=\"text-align: right;\">\n",
       "      <th></th>\n",
       "      <th>이름</th>\n",
       "      <th>나이</th>\n",
       "      <th>음악</th>\n",
       "      <th>국어</th>\n",
       "      <th>수학</th>\n",
       "      <th>영어</th>\n",
       "      <th>학교</th>\n",
       "    </tr>\n",
       "    <tr>\n",
       "      <th>순위</th>\n",
       "      <th></th>\n",
       "      <th></th>\n",
       "      <th></th>\n",
       "      <th></th>\n",
       "      <th></th>\n",
       "      <th></th>\n",
       "      <th></th>\n",
       "    </tr>\n",
       "  </thead>\n",
       "  <tbody>\n",
       "    <tr>\n",
       "      <th>1위</th>\n",
       "      <td>Kanye</td>\n",
       "      <td>42</td>\n",
       "      <td>100</td>\n",
       "      <td>55</td>\n",
       "      <td>33</td>\n",
       "      <td>11</td>\n",
       "      <td>Chicago</td>\n",
       "    </tr>\n",
       "    <tr>\n",
       "      <th>2위</th>\n",
       "      <td>Tyler</td>\n",
       "      <td>31</td>\n",
       "      <td>95</td>\n",
       "      <td>66</td>\n",
       "      <td>22</td>\n",
       "      <td>22</td>\n",
       "      <td>Odd Future</td>\n",
       "    </tr>\n",
       "    <tr>\n",
       "      <th>3위</th>\n",
       "      <td>Wayne</td>\n",
       "      <td>43</td>\n",
       "      <td>52</td>\n",
       "      <td>77</td>\n",
       "      <td>44</td>\n",
       "      <td>11</td>\n",
       "      <td>Ohio</td>\n",
       "    </tr>\n",
       "    <tr>\n",
       "      <th>4위</th>\n",
       "      <td>Yachty</td>\n",
       "      <td>24</td>\n",
       "      <td>88</td>\n",
       "      <td>88</td>\n",
       "      <td>11</td>\n",
       "      <td>66</td>\n",
       "      <td>Ohio</td>\n",
       "    </tr>\n",
       "    <tr>\n",
       "      <th>5위</th>\n",
       "      <td>Drake</td>\n",
       "      <td>33</td>\n",
       "      <td>12</td>\n",
       "      <td>99</td>\n",
       "      <td>66</td>\n",
       "      <td>32</td>\n",
       "      <td>Toronto</td>\n",
       "    </tr>\n",
       "    <tr>\n",
       "      <th>6위</th>\n",
       "      <td>Frank</td>\n",
       "      <td>32</td>\n",
       "      <td>99</td>\n",
       "      <td>71</td>\n",
       "      <td>88</td>\n",
       "      <td>74</td>\n",
       "      <td>Blonded</td>\n",
       "    </tr>\n",
       "    <tr>\n",
       "      <th>7위</th>\n",
       "      <td>Kendrick</td>\n",
       "      <td>38</td>\n",
       "      <td>89</td>\n",
       "      <td>99</td>\n",
       "      <td>11</td>\n",
       "      <td>92</td>\n",
       "      <td>Compton</td>\n",
       "    </tr>\n",
       "  </tbody>\n",
       "</table>\n",
       "</div>"
      ],
      "text/plain": [
       "          이름  나이   음악  국어  수학  영어          학교\n",
       "순위                                           \n",
       "1위     Kanye  42  100  55  33  11     Chicago\n",
       "2위     Tyler  31   95  66  22  22  Odd Future\n",
       "3위     Wayne  43   52  77  44  11        Ohio\n",
       "4위    Yachty  24   88  88  11  66        Ohio\n",
       "5위     Drake  33   12  99  66  32     Toronto\n",
       "6위     Frank  32   99  71  88  74     Blonded\n",
       "7위  Kendrick  38   89  99  11  92     Compton"
      ]
     },
     "execution_count": 218,
     "metadata": {},
     "output_type": "execute_result"
    }
   ],
   "source": [
    "df"
   ]
  },
  {
   "cell_type": "code",
   "execution_count": 221,
   "id": "19d9e755",
   "metadata": {},
   "outputs": [
    {
     "data": {
      "text/plain": [
       "순위\n",
       "1위     True\n",
       "2위     True\n",
       "3위    False\n",
       "4위     True\n",
       "5위    False\n",
       "6위     True\n",
       "7위     True\n",
       "Name: 음악, dtype: bool"
      ]
     },
     "execution_count": 221,
     "metadata": {},
     "output_type": "execute_result"
    }
   ],
   "source": [
    "df['음악'] > 60"
   ]
  },
  {
   "cell_type": "code",
   "execution_count": 225,
   "id": "4bd6f39c",
   "metadata": {},
   "outputs": [
    {
     "data": {
      "text/html": [
       "<div>\n",
       "<style scoped>\n",
       "    .dataframe tbody tr th:only-of-type {\n",
       "        vertical-align: middle;\n",
       "    }\n",
       "\n",
       "    .dataframe tbody tr th {\n",
       "        vertical-align: top;\n",
       "    }\n",
       "\n",
       "    .dataframe thead th {\n",
       "        text-align: right;\n",
       "    }\n",
       "</style>\n",
       "<table border=\"1\" class=\"dataframe\">\n",
       "  <thead>\n",
       "    <tr style=\"text-align: right;\">\n",
       "      <th></th>\n",
       "      <th>이름</th>\n",
       "      <th>나이</th>\n",
       "      <th>음악</th>\n",
       "      <th>국어</th>\n",
       "      <th>수학</th>\n",
       "      <th>영어</th>\n",
       "      <th>학교</th>\n",
       "    </tr>\n",
       "    <tr>\n",
       "      <th>순위</th>\n",
       "      <th></th>\n",
       "      <th></th>\n",
       "      <th></th>\n",
       "      <th></th>\n",
       "      <th></th>\n",
       "      <th></th>\n",
       "      <th></th>\n",
       "    </tr>\n",
       "  </thead>\n",
       "  <tbody>\n",
       "    <tr>\n",
       "      <th>1위</th>\n",
       "      <td>Kanye</td>\n",
       "      <td>42</td>\n",
       "      <td>100</td>\n",
       "      <td>55</td>\n",
       "      <td>33</td>\n",
       "      <td>11</td>\n",
       "      <td>Chicago</td>\n",
       "    </tr>\n",
       "    <tr>\n",
       "      <th>2위</th>\n",
       "      <td>Tyler</td>\n",
       "      <td>31</td>\n",
       "      <td>95</td>\n",
       "      <td>66</td>\n",
       "      <td>22</td>\n",
       "      <td>22</td>\n",
       "      <td>Odd Future</td>\n",
       "    </tr>\n",
       "    <tr>\n",
       "      <th>4위</th>\n",
       "      <td>Yachty</td>\n",
       "      <td>24</td>\n",
       "      <td>88</td>\n",
       "      <td>88</td>\n",
       "      <td>11</td>\n",
       "      <td>66</td>\n",
       "      <td>Ohio</td>\n",
       "    </tr>\n",
       "    <tr>\n",
       "      <th>6위</th>\n",
       "      <td>Frank</td>\n",
       "      <td>32</td>\n",
       "      <td>99</td>\n",
       "      <td>71</td>\n",
       "      <td>88</td>\n",
       "      <td>74</td>\n",
       "      <td>Blonded</td>\n",
       "    </tr>\n",
       "    <tr>\n",
       "      <th>7위</th>\n",
       "      <td>Kendrick</td>\n",
       "      <td>38</td>\n",
       "      <td>89</td>\n",
       "      <td>99</td>\n",
       "      <td>11</td>\n",
       "      <td>92</td>\n",
       "      <td>Compton</td>\n",
       "    </tr>\n",
       "  </tbody>\n",
       "</table>\n",
       "</div>"
      ],
      "text/plain": [
       "          이름  나이   음악  국어  수학  영어          학교\n",
       "순위                                           \n",
       "1위     Kanye  42  100  55  33  11     Chicago\n",
       "2위     Tyler  31   95  66  22  22  Odd Future\n",
       "4위    Yachty  24   88  88  11  66        Ohio\n",
       "6위     Frank  32   99  71  88  74     Blonded\n",
       "7위  Kendrick  38   89  99  11  92     Compton"
      ]
     },
     "execution_count": 225,
     "metadata": {},
     "output_type": "execute_result"
    }
   ],
   "source": [
    "filt = (df['음악'] > 60)\n",
    "df[filt]"
   ]
  },
  {
   "cell_type": "code",
   "execution_count": 230,
   "id": "b0014a04",
   "metadata": {},
   "outputs": [
    {
     "data": {
      "text/html": [
       "<div>\n",
       "<style scoped>\n",
       "    .dataframe tbody tr th:only-of-type {\n",
       "        vertical-align: middle;\n",
       "    }\n",
       "\n",
       "    .dataframe tbody tr th {\n",
       "        vertical-align: top;\n",
       "    }\n",
       "\n",
       "    .dataframe thead th {\n",
       "        text-align: right;\n",
       "    }\n",
       "</style>\n",
       "<table border=\"1\" class=\"dataframe\">\n",
       "  <thead>\n",
       "    <tr style=\"text-align: right;\">\n",
       "      <th></th>\n",
       "      <th>이름</th>\n",
       "      <th>나이</th>\n",
       "      <th>음악</th>\n",
       "    </tr>\n",
       "    <tr>\n",
       "      <th>순위</th>\n",
       "      <th></th>\n",
       "      <th></th>\n",
       "      <th></th>\n",
       "    </tr>\n",
       "  </thead>\n",
       "  <tbody>\n",
       "    <tr>\n",
       "      <th>1위</th>\n",
       "      <td>Kanye</td>\n",
       "      <td>42</td>\n",
       "      <td>100</td>\n",
       "    </tr>\n",
       "    <tr>\n",
       "      <th>2위</th>\n",
       "      <td>Tyler</td>\n",
       "      <td>31</td>\n",
       "      <td>95</td>\n",
       "    </tr>\n",
       "    <tr>\n",
       "      <th>4위</th>\n",
       "      <td>Yachty</td>\n",
       "      <td>24</td>\n",
       "      <td>88</td>\n",
       "    </tr>\n",
       "    <tr>\n",
       "      <th>6위</th>\n",
       "      <td>Frank</td>\n",
       "      <td>32</td>\n",
       "      <td>99</td>\n",
       "    </tr>\n",
       "    <tr>\n",
       "      <th>7위</th>\n",
       "      <td>Kendrick</td>\n",
       "      <td>38</td>\n",
       "      <td>89</td>\n",
       "    </tr>\n",
       "  </tbody>\n",
       "</table>\n",
       "</div>"
      ],
      "text/plain": [
       "          이름  나이   음악\n",
       "순위                   \n",
       "1위     Kanye  42  100\n",
       "2위     Tyler  31   95\n",
       "4위    Yachty  24   88\n",
       "6위     Frank  32   99\n",
       "7위  Kendrick  38   89"
      ]
     },
     "execution_count": 230,
     "metadata": {},
     "output_type": "execute_result"
    }
   ],
   "source": [
    "df.loc[filt, ['이름', '나이', '음악']] #loc -> filt 를 만족시키는 항목의 [무엇] 을 불러오는가? [대상, 항목]"
   ]
  },
  {
   "cell_type": "code",
   "execution_count": 232,
   "id": "12e34ed2",
   "metadata": {},
   "outputs": [
    {
     "data": {
      "text/html": [
       "<div>\n",
       "<style scoped>\n",
       "    .dataframe tbody tr th:only-of-type {\n",
       "        vertical-align: middle;\n",
       "    }\n",
       "\n",
       "    .dataframe tbody tr th {\n",
       "        vertical-align: top;\n",
       "    }\n",
       "\n",
       "    .dataframe thead th {\n",
       "        text-align: right;\n",
       "    }\n",
       "</style>\n",
       "<table border=\"1\" class=\"dataframe\">\n",
       "  <thead>\n",
       "    <tr style=\"text-align: right;\">\n",
       "      <th></th>\n",
       "      <th>이름</th>\n",
       "      <th>나이</th>\n",
       "      <th>음악</th>\n",
       "    </tr>\n",
       "    <tr>\n",
       "      <th>순위</th>\n",
       "      <th></th>\n",
       "      <th></th>\n",
       "      <th></th>\n",
       "    </tr>\n",
       "  </thead>\n",
       "  <tbody>\n",
       "    <tr>\n",
       "      <th>1위</th>\n",
       "      <td>Kanye</td>\n",
       "      <td>42</td>\n",
       "      <td>100</td>\n",
       "    </tr>\n",
       "    <tr>\n",
       "      <th>7위</th>\n",
       "      <td>Kendrick</td>\n",
       "      <td>38</td>\n",
       "      <td>89</td>\n",
       "    </tr>\n",
       "  </tbody>\n",
       "</table>\n",
       "</div>"
      ],
      "text/plain": [
       "          이름  나이   음악\n",
       "순위                   \n",
       "1위     Kanye  42  100\n",
       "7위  Kendrick  38   89"
      ]
     },
     "execution_count": 232,
     "metadata": {},
     "output_type": "execute_result"
    }
   ],
   "source": [
    "df.loc[(df['음악'] > 80) & (df['나이'] > 35) , ['이름','나이','음악']] #음악이 80점, 나이가 35살 넘는 사람들의 [이름, 나이, 음악]을 불러와라"
   ]
  },
  {
   "cell_type": "markdown",
   "id": "ec43bc87",
   "metadata": {},
   "source": [
    "### str 함수"
   ]
  },
  {
   "cell_type": "code",
   "execution_count": null,
   "id": "1eb3e8bc",
   "metadata": {},
   "outputs": [],
   "source": [
    "#1:34:34"
   ]
  }
 ],
 "metadata": {
  "kernelspec": {
   "display_name": "Python 3 (ipykernel)",
   "language": "python",
   "name": "python3"
  },
  "language_info": {
   "codemirror_mode": {
    "name": "ipython",
    "version": 3
   },
   "file_extension": ".py",
   "mimetype": "text/x-python",
   "name": "python",
   "nbconvert_exporter": "python",
   "pygments_lexer": "ipython3",
   "version": "3.10.9"
  }
 },
 "nbformat": 4,
 "nbformat_minor": 5
}
